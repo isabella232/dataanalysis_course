{
 "cells": [
  {
   "cell_type": "markdown",
   "metadata": {
    "slideshow": {
     "slide_type": "slide"
    }
   },
   "source": [
    "# Нейронные сети. Введение\n",
    "\n",
    "* Колесов Дмитрий Александрович <dmitry.kolesov@nextgis.ru>\n",
    "\n",
    "[https://github.com/nextgis/dataanalysis_course](https://github.com/nextgis/dataanalysis_course)"
   ]
  },
  {
   "cell_type": "markdown",
   "metadata": {
    "slideshow": {
     "slide_type": "slide"
    }
   },
   "source": [
    "# Литература и источники\n",
    "\n",
    "## Книги\n",
    "1. [Любая книга, которую вы найдете](https://scholar.google.ru/scholar?hl=ru&as_sdt=0%2C5&q=%D0%BD%D0%B5%D0%B9%D1%80%D0%BE%D0%BD%D0%BD%D1%8B%D0%B5+%D1%81%D0%B5%D1%82%D0%B8&btnG=).\n",
    "2. [Хайкин С. Нейронные сети: полный курс, 2-е издание. – Издательский дом Вильямс, 2008.](https://www.google.com/books?hl=ru&lr=&id=LPMr0iA0muwC&oi=fnd&pg=PA22&ots=4d1Hh4_NA7&sig=WhhjlewVu5Jc2px6kNndeLMXB68)\n",
    "3. [Гудфеллоу Я., Иошуа Б., Курвилль А. Глубокое обучение. – Litres, 2017](https://www.google.com/books?hl=ru&lr=&id=741EDwAAQBAJ&oi=fnd&pg=PA14&dq=related:1llkUhAywd8J:scholar.google.com/&ots=3bcjOiPuxy&sig=7K-nf3JD8Hjzo42xCOkoQKMgkAI).\n",
    " (Доступна онлайн [Исходная (английская) версия](http://www.deeplearningbook.org/).)\n",
    " \n",
    " "
   ]
  },
  {
   "cell_type": "markdown",
   "metadata": {
    "slideshow": {
     "slide_type": "subslide"
    }
   },
   "source": [
    "## Курсы/Видеолекции\n",
    "1. Курс \"Convolutional Neural Networks for Visual Recognition\" Стендфордского университета.\n",
    " * [Страница курса](http://cs231n.stanford.edu/).\n",
    " * [Видеолекции на Youtube](https://www.youtube.com/playlist?list=PLkt2uSq6rBVctENoVBg1TpCC7OQi31AlC).\n",
    " \n",
    "2. Курс \"Машинное обучение\" Школы анализа данных, Яндекс.\n",
    " * [Видеолекции](https://yandexdataschool.ru/edu-process/courses/machine-learning).\n",
    " \n",
    "3. Курс \"Learning from data\" Калифорнийского технологического института\n",
    " * [Страница курса](https://work.caltech.edu/telecourse.html).\n",
    " * [Видеолекции на Youtube](https://www.youtube.com/playlist?list=PLD63A284B7615313A).\n",
    "\n",
    " "
   ]
  },
  {
   "cell_type": "markdown",
   "metadata": {
    "slideshow": {
     "slide_type": "subslide"
    }
   },
   "source": [
    "## Практика\n",
    "\n",
    "### Соревнования\n",
    " * [Kaggle](https://www.kaggle.com/).\n",
    "\n",
    "### Наборы данных\n",
    " * [Kaggle](https://www.kaggle.com/).\n",
    " * [UCI Machine Learning Repository](http://mlr.cs.umass.edu/ml/datasets.html).\n",
    " \n"
   ]
  },
  {
   "cell_type": "markdown",
   "metadata": {
    "slideshow": {
     "slide_type": "slide"
    }
   },
   "source": [
    "# Определения\n",
    " * [Биологическая нейронная сеть](https://ru.wikipedia.org/wiki/%D0%9D%D0%B5%D0%B9%D1%80%D0%BE%D0%BD%D0%BD%D0%B0%D1%8F_%D1%81%D0%B5%D1%82%D1%8C) — совокупность нейронов головного и спинного мозга центральной нервной системы (ЦНС) и ганглия периферической нервной системы, которые связаны или функционально объединены в нервной системе, выполняют специфические физиологические функции.\n",
    " * [Искусственная нейронная сеть](https://ru.wikipedia.org/wiki/%D0%98%D1%81%D0%BA%D1%83%D1%81%D1%81%D1%82%D0%B2%D0%B5%D0%BD%D0%BD%D0%B0%D1%8F_%D0%BD%D0%B5%D0%B9%D1%80%D0%BE%D0%BD%D0%BD%D0%B0%D1%8F_%D1%81%D0%B5%D1%82%D1%8C) — математическая модель, а также её программное или аппаратное воплощение, построенная по принципу организации и функционирования биологических нейронных сетей — сетей нервных клеток живого организма."
   ]
  },
  {
   "cell_type": "markdown",
   "metadata": {
    "slideshow": {
     "slide_type": "slide"
    }
   },
   "source": [
    "# Предпосылки\n",
    "\n",
    "Порассуждаем о том, зачем люди вообще занимаются исследованием нейронных сетей и что они дают.\n",
    "\n",
    "Все знают, как устроен <<обычный>> фон-Неймановский компьютер, каковы его сильные строны и что он умеет делать. Что *не умеет делать* обычный компьютер? Или что он делает очень плохо?"
   ]
  },
  {
   "cell_type": "markdown",
   "metadata": {
    "slideshow": {
     "slide_type": "subslide"
    }
   },
   "source": [
    "## Биологические предпосылки: пример 1\n",
    "\n",
    "Распознавание образов:\n",
    "\n",
    "<img src=\"img/lec01/cat_dog.jpg\" height=\"30%\">"
   ]
  },
  {
   "cell_type": "markdown",
   "metadata": {
    "slideshow": {
     "slide_type": "subslide"
    }
   },
   "source": [
    "<img src=\"img/lec01/ImageRecErrRate.png\" height=\"10%\">\n",
    "\n",
    "Снижение ошибки распознавания объектов на данных ImageNet Large Scale Visual Recognition Challenge с течением времени (Гудфеллоу Я. и др. \"Глубокое обучение\")."
   ]
  },
  {
   "cell_type": "markdown",
   "metadata": {
    "slideshow": {
     "slide_type": "subslide"
    }
   },
   "source": [
    "## Биологические предпосылки: пример 2\n",
    "\n",
    "Сонар летучей мыши.\n",
    "\n",
    "* Расстояние до нужного объекта\n",
    "* Относительная скорость объекта\n",
    "* Размеры его отдельных элементов\n",
    "* Азимут и высота движения объекта\n",
    "\n",
    "И все это в полете.\n",
    "\n"
   ]
  },
  {
   "cell_type": "markdown",
   "metadata": {
    "slideshow": {
     "slide_type": "subslide"
    }
   },
   "source": [
    "## Технические предпосылки\n",
    "\n",
    "Архитектура [МКМД (MIMD)](https://ru.wikipedia.org/wiki/MIMD) заходит в тупик? (Галушкин А.И. \"Теория нейронных сетей\".)\n",
    "\n",
    "![Производительность на один вычислительный узел (ядро процессора).](img/lec01/MIMD.png)\n",
    "\n",
    "* Потери при межузловых обменах при увеличении числа узлов.\n",
    "* Увеличение стоимости узла при увеличении его производительности.\n"
   ]
  },
  {
   "cell_type": "markdown",
   "metadata": {
    "slideshow": {
     "slide_type": "subslide"
    }
   },
   "source": [
    "### Важнейшие свойства биологических нейросетей\n",
    "* Параллельность обработки информации.\n",
    "* Самообучение (самоорганизация).\n",
    "* Способность к полной обработке информации (все известные человеку классы задач решаются биологическими нейросетями).\n",
    "* Надежность (выход из строя даже 10% нейронов в нервной системе не прерывает ее работы).\n",
    "* Биологические НС -- аналоговые системы.\n",
    "\n",
    "### Головной мозг против компьютера\n",
    "* Головной мозг человека содержит 9 -- 80 млрд нейронов.\n",
    "* Реакция нейронов в 100 000 - 1000 000 раз медленнее кремниевых логических элементов.\n",
    "* Энергозатраты мозга в пересчете на одну операцию в секунду $\\sim 10^{-16}$ Дж. (экономичный компьютер $\\sim 10^{-6}$) "
   ]
  },
  {
   "cell_type": "markdown",
   "metadata": {
    "slideshow": {
     "slide_type": "slide"
    }
   },
   "source": [
    "# Развитие нейросетей \n",
    "\n",
    "(Гудфеллоу Я. и др. \"Глубокое обучение\").\n",
    "\n",
    "![Размеры нейросетей](img/lec01/NnetSizes.png)\n",
    "\n",
    "Рост размеров сетей со временем.\n"
   ]
  },
  {
   "cell_type": "markdown",
   "metadata": {
    "slideshow": {
     "slide_type": "subslide"
    }
   },
   "source": [
    "Ссылки|Ссылки\n",
    "-|-\n",
    "1. Perceptron (Rosenblatt, 1958, 1962). |11. GPU-accelerated convolutional network (Chellapilla et al., 2006). \n",
    "2. Adaptive linear element (Widrow and Hoff, 1960). |12. Deep Boltzmann machine (Salakhutdinov and Hinton, 2009a).  \n",
    "3. Neocognitron (Fukushima, 1980). | 13. GPU-accelerated deep belief network (Raina et al., 2009).\n",
    "4. Early back-propagation network (Rumelhart et al., 1986b).|14. Unsupervised convolutional network (Jarrett et al., 2009). \n",
    "5. Recurrent neural network for speech recognition (Robinson and Fallside, 1991).| 15. GPU-accelerated multilayer perceptron (Ciresan et al., 2010). \n",
    "6. Multilayer perceptron for speech recognition (Bengio et al., 1991). |16. OMP-1 network (Coates and Ng, 2011). \n",
    "7. Mean field sigmoid belief network (Saul et al., 1996). | 17. Distributed autoencoder (Le et al., 2012). \n",
    "8. LeNet-5 (LeCun et al., 1998b). |18. Multi-GPU convolutional network (Krizhevsky et al., 2012). \n",
    "9. Echo state network (Jaeger and Haas, 2004). |19. COTS HPC unsupervised convolutional network (Coates et al., 2013).\n",
    "10. Deep belief network (Hinton et al., 2006). | 20. GoogLeNet (Szegedy et al., 2014a)."
   ]
  },
  {
   "cell_type": "markdown",
   "metadata": {
    "slideshow": {
     "slide_type": "slide"
    }
   },
   "source": [
    "# Примеры\n",
    "\n",
    " * [Самолет-разведчик LoFLYTE](http://www.nasa.gov/centers/langley/news/factsheets/LoFlyte.html) использовал нейронные сети, позволяющие автопилоту обучаться, копируя приемы пилотирования летчика.\n",
    " * [Игровая индустрия](https://ru.wikipedia.org/wiki/AlphaGo).\n",
    " * [Поисковые системы](https://yandex.ru/blog/company/algoritm-palekh-kak-neyronnye-seti-pomogayut-poisku-yandeksa).\n",
    " * [Автоматические переводчики](https://yandex.ru/blog/company/kak-pobedit-mornikov-yandeks-zapustil-gibridnuyu-sistemu-perevoda).\n",
    " * [\"Котики\"](http://www.image-net.org/challenges/LSVRC/).\n",
    " * И множество других областей.\n"
   ]
  },
  {
   "cell_type": "markdown",
   "metadata": {
    "slideshow": {
     "slide_type": "slide"
    }
   },
   "source": [
    "# Модель нейрона"
   ]
  },
  {
   "cell_type": "markdown",
   "metadata": {
    "slideshow": {
     "slide_type": "subslide"
    }
   },
   "source": [
    "### Вопросы, возникающие при изучении мозга\n",
    "\n",
    "* Как работает нервная клетка - биологический нейрон?\n",
    "(Необходимо иметь математическую модель, адекватно описывающую информационные процессы в нейроне. Какие свойства нейрона важны при моделировании, а какие - нет?)\n",
    "* Как передается информация через соединения между\n",
    "нейронами - синапсы? Как меняется проводимость синапса в\n",
    "зависимости от проходящих по нему сигналов?\n",
    "* По каким законам нейроны связаны друг с другом в\n",
    "сеть? Откуда нервная клетка <<знает>>, с какими соседями должно быть установлено соединение?\n",
    "* Как биологические нейронные сети обучаются решать задачи?\n",
    "Как выбираются параметры сети, чтобы давать правильные выходные сигналы? Какой выходной сигнал считается  <<правильным>>, а какой - ошибочным?"
   ]
  },
  {
   "cell_type": "markdown",
   "metadata": {
    "slideshow": {
     "slide_type": "subslide"
    }
   },
   "source": [
    "## Пирамидальный нейрон\n",
    "\n",
    "* Тело клетки содержит ядро, митохондрии и др. органелы,  поддерживающие жизнедеятельность клетки.\n",
    "* Дендриты - входные волокна, собирают информацию от других нейронов.\n",
    "* Аксон - длинное выходное нервное волокно клетки. Обеспечивает проведение импульса и передачу его в другие нейроны.\n",
    "* Синапс - место контакта нервных волокон, передает импульс от нейрона к нейрону.\n",
    "![Пирамидальный нейрон](img/lec01/neuron.png)"
   ]
  },
  {
   "cell_type": "markdown",
   "metadata": {
    "slideshow": {
     "slide_type": "subslide"
    }
   },
   "source": [
    "# Простейшая модель нейрона\n",
    "\n",
    "![Пирамидальный нейрон](img/lec01/neuron_mod1.png)"
   ]
  },
  {
   "cell_type": "markdown",
   "metadata": {
    "slideshow": {
     "slide_type": "slide"
    }
   },
   "source": [
    "# Пример нейронной сети: многослойный перцептрон\n",
    "\n",
    "\n",
    "![Многослойный перцептрон](img/lec01/net.png)"
   ]
  },
  {
   "cell_type": "markdown",
   "metadata": {
    "slideshow": {
     "slide_type": "subslide"
    }
   },
   "source": [
    "# Виды функций активаций\n",
    "\n",
    "1. Пороговая\n",
    "\\begin{equation}\n",
    "\t\t\ty = f(u)= \\left\\lbrace \n",
    "\t\t\t\t\\begin{array}{rl}\n",
    "\t\t\t\t\t1, & \\mbox{если $u \\geq 0$}\\\\\n",
    "\t\t\t\t\t-1, & \\mbox{если u<0}\n",
    "\t\t\t\t\\end{array}  \\right. .\n",
    "\\end{equation}\n",
    "\n",
    "2. Линейная ограниченная.\n",
    "\\begin{equation}\n",
    "y = f(u)= \\left\\lbrace \n",
    "    \\begin{array}{rl}\n",
    "        1, & \\mbox{если $u > 1$}\\\\\n",
    "        u, & \\mbox{если $-1 \\leq u \\leq 1$} \\\\\n",
    "        -1, & \\mbox{если u<-1}\n",
    "    \\end{array}  \\right. .\n",
    "\\end{equation}\t\n",
    "\n",
    "3. Выпрямитель (ReLU).\n",
    "\\begin{equation}\n",
    "y = f(u)= \\left\\lbrace \n",
    "    \\begin{array}{rl}\n",
    "        0, & \\mbox{если $u < 0$}\\\\\n",
    "        u, & \\mbox{если $u \\geq 0$}\n",
    "    \\end{array}   \\right. \n",
    "\\end{equation}\t\n",
    "\n",
    "4. Логистическая (сигмоидальная/сигмоидная)\n",
    "\\begin{equation}\n",
    "    y = f(u) = \\frac{1}{1+e^{-au}},\n",
    "\\end{equation}\t\n",
    "\n",
    "5. Гиперболический тангенс.\n",
    "\\begin{equation}\n",
    "    y = f(u) = th(b u)= \\frac{e^{bu}- e^{-bu}}{e^{bu}+e^{-bu}},\n",
    "\\end{equation}\t\t\n",
    "\n",
    "6. Линейная\n",
    "\\begin{equation}\n",
    "    y = f(u) = k u\n",
    "\\end{equation}\t\n"
   ]
  },
  {
   "cell_type": "markdown",
   "metadata": {
    "slideshow": {
     "slide_type": "subslide"
    }
   },
   "source": [
    "# Виды сумматоров\n",
    "\n",
    "1. Линейный\n",
    "\\begin{equation}\n",
    "u = b+\\sum_{i=1}^n x_i w_i ;\\quad y = f(u)\n",
    "\\end{equation}\n",
    "\n",
    "2. Паде-нейрон.\n",
    "\\begin{equation}\n",
    "u = \\frac{Vx}{Lx} ;\\quad y = f(u),\n",
    "\\end{equation}\n",
    "где $Vx = \\sum_i v_i x_i$, $Lx = \\sum_i l_i x_i$.\n",
    "\n",
    "3. Квадратичный\n",
    "\\begin{equation}\n",
    "u = Q(x) = \\sum_{i,j} q_{ij} x_i x_j + \\sum_{i} p_i x_i +r ;\\quad y = f(u),\n",
    "\\end{equation}\n"
   ]
  },
  {
   "cell_type": "markdown",
   "metadata": {
    "slideshow": {
     "slide_type": "slide"
    }
   },
   "source": [
    "# Примеры"
   ]
  },
  {
   "cell_type": "markdown",
   "metadata": {
    "slideshow": {
     "slide_type": "subslide"
    }
   },
   "source": [
    "# Примеры\n",
    "\n",
    "Дан нейрон с линейным сумматором и пороговой функцией активации. Пусть на входы нейрона поданы сигналы $x_1=0.1$, $x_2=0.1$, $x_3=0.5$, $x_4=0.9$. Расчитать выходное значение нейрона.\n",
    "![Пример 1](img/lec01/primer1.png)\n"
   ]
  },
  {
   "cell_type": "markdown",
   "metadata": {
    "slideshow": {
     "slide_type": "fragment"
    }
   },
   "source": [
    "\n",
    "(Ответ: \n",
    "\\begin{equation*}\n",
    "    u = b+  \\sum_{i=1}^{4} x_i w_i = 0.2 + 0.1\\times 0.5+0.1\\times 0.1-0.5\\times 0.3+0.9\\times 0.4 = 0.47; \\qquad y = f(u) = 1\n",
    "\\end{equation*}\n",
    ")"
   ]
  },
  {
   "cell_type": "markdown",
   "metadata": {
    "slideshow": {
     "slide_type": "subslide"
    }
   },
   "source": [
    "# Пример 2\n",
    "\n",
    "![Пример 1](img/lec01/robot.png)\n",
    "\n",
    "Требуется разработать мозги робота, который ищет себе пищу (пища = свет). У робота есть два светодатчика: левый и правый. Робот должен идти в ту сторону, где света больше.\n",
    "\n"
   ]
  },
  {
   "cell_type": "markdown",
   "metadata": {
    "slideshow": {
     "slide_type": "subslide"
    }
   },
   "source": [
    "* Сколько синаптических связей должен иметь нейрон?\n",
    "* Какую функцию активации выбрать?\n",
    "* Как интерпретировать выходное значение нейрона?\n",
    "* Чему должно быть равно пороговое значение?\n",
    "* Чему должны быть равны синаптические веса?\n"
   ]
  },
  {
   "cell_type": "markdown",
   "metadata": {
    "slideshow": {
     "slide_type": "subslide"
    }
   },
   "source": [
    "* Два входа: $x_1$ -- левый датчик, $x_2$ -- правый датчик.\n",
    "* Пороговая функция активации.\n",
    "* $y=1$: поворот налево; $y=-1$ : поворот направо.\n",
    "* $b=0$.\n",
    "* $w_1=1; \\qquad w_2=-1$.\n",
    "\n",
    "*Что получится, если выбрать порог $b \\ne 0$?*"
   ]
  },
  {
   "cell_type": "markdown",
   "metadata": {
    "slideshow": {
     "slide_type": "subslide"
    }
   },
   "source": [
    "# Как обучить?\n",
    "\n",
    "Составляем задачник (обучение с учителем), будем использовать пороговую функцию активации:\n",
    "\\begin{equation}\n",
    "    f(u)= \\left\\lbrace \n",
    "        \\begin{array}{rl}\n",
    "            1, & \\mbox{если $u \\geq 0$}\\\\\n",
    "            -1, & \\mbox{если u<0}\n",
    "        \\end{array}  \\right. .\n",
    "\\end{equation}\n",
    "\n",
    "\n",
    "Составим задачник\n"
   ]
  },
  {
   "cell_type": "markdown",
   "metadata": {
    "slideshow": {
     "slide_type": "fragment"
    }
   },
   "source": [
    "Левый датчик | Правый датчик | Желаемый отклик\n",
    "-------------|---------------|----------------\n",
    "1 | 0 |  1\n",
    "0 | 1 | -1 \n",
    "0.5  | 1 |-1 \n",
    "1  | 0.5 |  1 \n",
    "... | ... | ..."
   ]
  },
  {
   "cell_type": "markdown",
   "metadata": {
    "slideshow": {
     "slide_type": "fragment"
    }
   },
   "source": [
    "Свободный вход | Левый датчик | Правый датчик | Желаемый отклик\n",
    "---------------|--------------|---------------|----------------\n",
    "1 | 1 | 0 |  1\n",
    "1 | 0 | 1 | -1 \n",
    "1 | 0.5  | 1 |-1 \n",
    "1 | 1  | 0.5 |  1 \n",
    "... | ... | ... | ..."
   ]
  },
  {
   "cell_type": "markdown",
   "metadata": {
    "slideshow": {
     "slide_type": "subslide"
    }
   },
   "source": [
    "\\begin{equation}\n",
    "y = f(w_0 x_0 + w_1 x_1 + w_2 x_2)\n",
    "\\end{equation}\n",
    "\n",
    "\n",
    "\\begin{equation}\n",
    "    f(u)= \\left\\lbrace \n",
    "        \\begin{array}{rl}\n",
    "            1, & \\mbox{если $u \\geq 0$}\\\\\n",
    "            -1, & \\mbox{если u<0}\n",
    "        \\end{array}  \\right. .\n",
    "\\end{equation}"
   ]
  },
  {
   "cell_type": "code",
   "execution_count": null,
   "metadata": {
    "slideshow": {
     "slide_type": "skip"
    }
   },
   "outputs": [],
   "source": [
    "# Простейший нейрон (векторизованные вычисления):\n",
    "import numpy as np\n",
    "\n",
    "def neuron(x, w):\n",
    "    if np.sum(x*w) > 0:\n",
    "        return 1\n",
    "    else:\n",
    "        return -1"
   ]
  },
  {
   "cell_type": "code",
   "execution_count": null,
   "metadata": {
    "slideshow": {
     "slide_type": "skip"
    }
   },
   "outputs": [],
   "source": [
    "import numpy as np\n",
    "x = np.array([\n",
    "    [1, 1, 0],\n",
    "    [1, 0, 1],\n",
    "    [1, 0.5, 1],\n",
    "    [1, 1, 0.5]\n",
    "])\n",
    "y = np.array([1, -1, -1, 1])\n",
    "\n",
    "w = np.array([1, 1, 1])\n",
    "\n",
    "print(neuron(x[1], w))\n",
    "\n",
    "# 1 * w0 + 0 * w1 + 1 * w2 (>0)"
   ]
  },
  {
   "cell_type": "markdown",
   "metadata": {
    "slideshow": {
     "slide_type": "skip"
    }
   },
   "source": [
    "Набор данных: http://mlr.cs.umass.edu/ml/datasets/Abalone\n",
    "\n"
   ]
  },
  {
   "cell_type": "code",
   "execution_count": null,
   "metadata": {
    "slideshow": {
     "slide_type": "skip"
    }
   },
   "outputs": [],
   "source": [
    "import pandas as pd\n",
    "\n",
    "url=\"http://mlr.cs.umass.edu/ml/machine-learning-databases/abalone/abalone.data\"\n",
    "abalone = pd.read_csv(url, header=None, \n",
    "    names=['Sex', 'Length', 'Diameter', 'Height', 'Whole_weight', 'Shucked_weight', \n",
    "          'Viscera_weight', 'Shell_weight', 'Rings']\n",
    ")\n",
    "abalone.head()\n"
   ]
  },
  {
   "cell_type": "code",
   "execution_count": null,
   "metadata": {
    "slideshow": {
     "slide_type": "skip"
    }
   },
   "outputs": [],
   "source": [
    "sample = abalone.loc[ ~ (abalone['Sex'] =='I')]\n",
    "sample = sample.copy()\n",
    "\n",
    "sample['Class'] = -1\n",
    "sample.loc[(sample['Sex'] =='F'), 'Class'] = +1.0\n",
    "\n",
    "sample.head()"
   ]
  },
  {
   "cell_type": "code",
   "execution_count": null,
   "metadata": {
    "slideshow": {
     "slide_type": "skip"
    }
   },
   "outputs": [],
   "source": [
    "x = np.array(sample)[:, 1:9]\n",
    "y = np.array(sample)[:, 9]\n",
    "\n",
    "print('x:', x)\n",
    "\n",
    "print('y:', y)"
   ]
  }
 ],
 "metadata": {
  "celltoolbar": "Slideshow",
  "kernelspec": {
   "display_name": "Python 3",
   "language": "python",
   "name": "python3"
  },
  "language_info": {
   "codemirror_mode": {
    "name": "ipython",
    "version": 3
   },
   "file_extension": ".py",
   "mimetype": "text/x-python",
   "name": "python",
   "nbconvert_exporter": "python",
   "pygments_lexer": "ipython3",
   "version": "3.4.3"
  }
 },
 "nbformat": 4,
 "nbformat_minor": 2
}
