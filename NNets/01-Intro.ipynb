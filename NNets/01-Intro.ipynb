{
 "cells": [
  {
   "cell_type": "markdown",
   "metadata": {
    "slideshow": {
     "slide_type": "slide"
    }
   },
   "source": [
    "# Нейронные сети. Введение\n",
    "\n",
    "* Колесов Дмитрий Александрович <dmitry.kolesov@nextgis.ru>"
   ]
  },
  {
   "cell_type": "markdown",
   "metadata": {
    "slideshow": {
     "slide_type": "slide"
    }
   },
   "source": [
    "# Литература и источники\n",
    "\n",
    "## Книги\n",
    "1. [Любая книга, которую вы найдете](https://scholar.google.ru/scholar?hl=ru&as_sdt=0%2C5&q=%D0%BD%D0%B5%D0%B9%D1%80%D0%BE%D0%BD%D0%BD%D1%8B%D0%B5+%D1%81%D0%B5%D1%82%D0%B8&btnG=).\n",
    "2. [Хайкин С. Нейронные сети: полный курс, 2-е издание. – Издательский дом Вильямс, 2008.](https://www.google.com/books?hl=ru&lr=&id=LPMr0iA0muwC&oi=fnd&pg=PA22&ots=4d1Hh4_NA7&sig=WhhjlewVu5Jc2px6kNndeLMXB68)\n",
    "3. [Гудфеллоу Я., Иошуа Б., Курвилль А. Глубокое обучение. – Litres, 2017](https://www.google.com/books?hl=ru&lr=&id=741EDwAAQBAJ&oi=fnd&pg=PA14&dq=related:1llkUhAywd8J:scholar.google.com/&ots=3bcjOiPuxy&sig=7K-nf3JD8Hjzo42xCOkoQKMgkAI).\n",
    " (Доступна онлайн [Исходная (английская) версия](http://www.deeplearningbook.org/).)\n",
    " \n",
    " "
   ]
  },
  {
   "cell_type": "markdown",
   "metadata": {
    "slideshow": {
     "slide_type": "subslide"
    }
   },
   "source": [
    "## Курсы/Видеолекции\n",
    "1. Курс \"Convolutional Neural Networks for Visual Recognition\" Стендфордского университета.\n",
    " * [Страница курса](http://cs231n.stanford.edu/).\n",
    " * [Видеолекции на Youtube](https://www.youtube.com/playlist?list=PLkt2uSq6rBVctENoVBg1TpCC7OQi31AlC).\n",
    " \n",
    "2. Курс \"Машинное обучение\" Школы анализа данных, Яндекс.\n",
    " * [Видеолекции](https://yandexdataschool.ru/edu-process/courses/machine-learning).\n",
    " \n",
    "3. Курс \"Learning from data\" Калифорнийского технологического института\n",
    " * [Страница курса](https://work.caltech.edu/telecourse.html).\n",
    " * [Видеолекции на Youtube](https://www.youtube.com/playlist?list=PLD63A284B7615313A).\n",
    "\n",
    " "
   ]
  },
  {
   "cell_type": "markdown",
   "metadata": {
    "slideshow": {
     "slide_type": "subslide"
    }
   },
   "source": [
    "## Практика\n",
    "\n",
    "### Соревнования\n",
    " * [Kaggle](https://www.kaggle.com/).\n",
    "\n",
    "### Наборы данных\n",
    " * [Kaggle](https://www.kaggle.com/).\n",
    " * [UCI Machine Learning Repository](http://mlr.cs.umass.edu/ml/datasets.html).\n",
    " \n"
   ]
  },
  {
   "cell_type": "markdown",
   "metadata": {
    "slideshow": {
     "slide_type": "slide"
    }
   },
   "source": [
    "# Определения\n",
    " * [Биологическая нейронная сеть](https://ru.wikipedia.org/wiki/%D0%9D%D0%B5%D0%B9%D1%80%D0%BE%D0%BD%D0%BD%D0%B0%D1%8F_%D1%81%D0%B5%D1%82%D1%8C) — совокупность нейронов головного и спинного мозга центральной нервной системы (ЦНС) и ганглия периферической нервной системы, которые связаны или функционально объединены в нервной системе, выполняют специфические физиологические функции.\n",
    " * [Искусственная нейронная сеть](https://ru.wikipedia.org/wiki/%D0%98%D1%81%D0%BA%D1%83%D1%81%D1%81%D1%82%D0%B2%D0%B5%D0%BD%D0%BD%D0%B0%D1%8F_%D0%BD%D0%B5%D0%B9%D1%80%D0%BE%D0%BD%D0%BD%D0%B0%D1%8F_%D1%81%D0%B5%D1%82%D1%8C) — математическая модель, а также её программное или аппаратное воплощение, построенная по принципу организации и функционирования биологических нейронных сетей — сетей нервных клеток живого организма."
   ]
  },
  {
   "cell_type": "markdown",
   "metadata": {
    "slideshow": {
     "slide_type": "slide"
    }
   },
   "source": [
    "# Предпосылки\n",
    "\n",
    "Порассуждаем о том, зачем люди вообще занимаются исследованием нейронных сетей и что они дают.\n",
    "\n",
    "Все знают, как устроен <<обычный>> фон-Неймановский компьютер, каковы его сильные строны и что он умеет делать. Что *не умеет делать* обычный компьютер? Или что он делает очень плохо?"
   ]
  },
  {
   "cell_type": "markdown",
   "metadata": {
    "slideshow": {
     "slide_type": "subslide"
    }
   },
   "source": [
    "## Биологические предпосылки: пример 1\n",
    "\n",
    "Распознавание образов:\n",
    "\n",
    "<img src=\"img/lec01/cat_dog.jpg\" height=\"30%\">"
   ]
  },
  {
   "cell_type": "markdown",
   "metadata": {
    "slideshow": {
     "slide_type": "subslide"
    }
   },
   "source": [
    "<img src=\"img/lec01/ImageRecErrRate.png\" height=\"10%\">\n",
    "\n",
    "Снижение ошибки распознавания объектов на данных ImageNet Large Scale Visual Recognition Challenge с течением времени (Гудфеллоу Я. и др. \"Глубокое обучение\")."
   ]
  },
  {
   "cell_type": "markdown",
   "metadata": {
    "slideshow": {
     "slide_type": "subslide"
    }
   },
   "source": [
    "## Биологические предпосылки: пример 2\n",
    "\n",
    "Сонар летучей мыши.\n",
    "\n",
    "* Расстояние до нужного объекта\n",
    "* Относительная скорость объекта\n",
    "* Размеры его отдельных элементов\n",
    "* Азимут и высота движения объекта\n",
    "\n",
    "И все это в полете.\n",
    "\n"
   ]
  },
  {
   "cell_type": "markdown",
   "metadata": {
    "slideshow": {
     "slide_type": "subslide"
    }
   },
   "source": [
    "## Технические предпосылки\n",
    "\n",
    "Архитектура [МКМД (MIMD)](https://ru.wikipedia.org/wiki/MIMD) заходит в тупик? (Галушкин А.И. \"Теория нейронных сетей\".)\n",
    "\n",
    "![Производительность на один вычислительный узел (ядро процессора).](img/lec01/MIMD.png)\n",
    "\n",
    "* Потери при межузловых обменах при увеличении числа узлов.\n",
    "* Увеличение стоимости узла при увеличении его производительности.\n"
   ]
  },
  {
   "cell_type": "markdown",
   "metadata": {
    "slideshow": {
     "slide_type": "subslide"
    }
   },
   "source": [
    "### Важнейшие свойства биологических нейросетей\n",
    "* Параллельность обработки информации.\n",
    "* Самообучение (самоорганизация).\n",
    "* Способность к полной обработке информации (все известные человеку классы задач решаются биологическими нейросетями).\n",
    "* Надежность (выход из строя даже 10\\% нейронов в нервной системе не прерывает ее работы).\n",
    "* Биологические НС --- аналоговые системы.\n",
    "\n",
    "### Головной мозг против компьютера\n",
    "* Головной мозг человека содержит 9 -- 80 млрд нейронов.\n",
    "* Реакция нейронов в 100 000 - 1000 000 раз медленнее кремниевых логических элементов.\n",
    "* Энергозатраты мозга в пересчете на одну операцию в секунду $\\sim 10^{-16}$ Дж. (экономичный компьютер $\\sim 10^{-6}$) "
   ]
  },
  {
   "cell_type": "markdown",
   "metadata": {
    "slideshow": {
     "slide_type": "slide"
    }
   },
   "source": [
    "# Развитие нейросетей \n",
    "\n",
    "(Гудфеллоу Я. и др. \"Глубокое обучение\").\n",
    "\n",
    "![Размеры нейросетей](img/lec01/NnetSizes.png)\n",
    "\n"
   ]
  },
  {
   "cell_type": "markdown",
   "metadata": {
    "slideshow": {
     "slide_type": "subslide"
    }
   },
   "source": [
    "Ссылки|Ссылки\n",
    "-|-\n",
    "1. Perceptron (Rosenblatt, 1958, 1962). |11. GPU-accelerated convolutional network (Chellapilla et al., 2006). \n",
    "2. Adaptive linear element (Widrow and Hoff, 1960). |12. Deep Boltzmann machine (Salakhutdinov and Hinton, 2009a).  \n",
    "3. Neocognitron (Fukushima, 1980). | 13. GPU-accelerated deep belief network (Raina et al., 2009).\n",
    "4. Early back-propagation network (Rumelhart et al., 1986b).|14. Unsupervised convolutional network (Jarrett et al., 2009). \n",
    "5. Recurrent neural network for speech recognition (Robinson and Fallside, 1991).| 15. GPU-accelerated multilayer perceptron (Ciresan et al., 2010). \n",
    "6. Multilayer perceptron for speech recognition (Bengio et al., 1991). |16. OMP-1 network (Coates and Ng, 2011). \n",
    "7. Mean field sigmoid belief network (Saul et al., 1996). | 17. Distributed autoencoder (Le et al., 2012). \n",
    "8. LeNet-5 (LeCun et al., 1998b). |18. Multi-GPU convolutional network (Krizhevsky et al., 2012). \n",
    "9. Echo state network (Jaeger and Haas, 2004). |19. COTS HPC unsupervised convolutional network (Coates et al., 2013).\n",
    "10. Deep belief network (Hinton et al., 2006). | 20. GoogLeNet (Szegedy et al., 2014a)."
   ]
  },
  {
   "cell_type": "markdown",
   "metadata": {
    "slideshow": {
     "slide_type": "subslide"
    }
   },
   "source": []
  },
  {
   "cell_type": "markdown",
   "metadata": {},
   "source": []
  },
  {
   "cell_type": "markdown",
   "metadata": {},
   "source": []
  },
  {
   "cell_type": "markdown",
   "metadata": {},
   "source": []
  },
  {
   "cell_type": "markdown",
   "metadata": {},
   "source": []
  },
  {
   "cell_type": "markdown",
   "metadata": {},
   "source": []
  },
  {
   "cell_type": "markdown",
   "metadata": {},
   "source": []
  },
  {
   "cell_type": "markdown",
   "metadata": {},
   "source": []
  },
  {
   "cell_type": "markdown",
   "metadata": {},
   "source": []
  },
  {
   "cell_type": "markdown",
   "metadata": {},
   "source": []
  },
  {
   "cell_type": "markdown",
   "metadata": {},
   "source": []
  }
 ],
 "metadata": {
  "celltoolbar": "Slideshow",
  "kernelspec": {
   "display_name": "Python 3",
   "language": "python",
   "name": "python3"
  },
  "language_info": {
   "codemirror_mode": {
    "name": "ipython",
    "version": 3
   },
   "file_extension": ".py",
   "mimetype": "text/x-python",
   "name": "python",
   "nbconvert_exporter": "python",
   "pygments_lexer": "ipython3",
   "version": "3.5.2"
  }
 },
 "nbformat": 4,
 "nbformat_minor": 2
}
