{
 "cells": [
  {
   "cell_type": "markdown",
   "metadata": {
    "slideshow": {
     "slide_type": "slide"
    }
   },
   "source": [
    "## Элеметы теории статистического обучения"
   ]
  },
  {
   "cell_type": "markdown",
   "metadata": {
    "slideshow": {
     "slide_type": "slide"
    }
   },
   "source": [
    "## Задача:\n",
    "\n",
    "Имется две пары игральных костей. Одна стандартная (на гранях числа от 1 до 6), а вторая \"подправленная\", где на каждой грани записано число на два больше (т.е. от 3 до 9). Я случайно с равной вероятностью выбираю или первую пару костей или вторую, а затем бросаю их. Вам сообщаю число выпавших очков, ваша задача - угадать, какую пару костей я подбросил стандартную или \"подправленную\". Если угадываете - получаете 10 рублей, не угадываете - вы платите мне 10 рублей :))\n",
    "\n",
    "Допустим, я сообщаю, что выпало 8 очков. На что вы поставите?\n",
    "\n"
   ]
  },
  {
   "cell_type": "markdown",
   "metadata": {
    "slideshow": {
     "slide_type": "subslide"
    }
   },
   "source": [
    "## Ответ\n",
    "<img src=\"img/lecBayes/DiceProbas.png\" height=\"30%\">"
   ]
  },
  {
   "cell_type": "raw",
   "metadata": {
    "slideshow": {
     "slide_type": "subslide"
    }
   },
   "source": [
    "\n",
    " 2   1,1                          -\n",
    " 3   1,2 2,1                      - \n",
    " 4   1,3 2,2 3,1                  -\n",
    " 5   1,4 2,3 3,2 4,1              -\n",
    " 6   1,5 2,4 3,3 4,2 5,1          3,3\n",
    " 7   1,6 2,5 3,4 4,3 5,2 1,6      3,4 4,3\n",
    " 8   2,6 3,5 4,4 5,4 6,2          3,5 4,4 5,4\n",
    " 9   3,6 4,5 5,4 6,3              3,6 4,5 5,4 6,3\n",
    "10   4,6 5,5 6,4                  3,7 4,6 5,5 6,4 7,3\n",
    "11   5,6 6,5                      3,8 4,7 5,6 6,5 7,4 8,3\n",
    "12   6,6                          4,8 5,7 6,6 7,5 8,4\n",
    "13   -                            5,8 6,7 7,6 8,5 \n",
    "14   -                            6,8 7,7 8,6\n",
    "15   -                            7,8 8,7\n",
    "16   -                            8,8\n",
    "\n",
    "\n"
   ]
  },
  {
   "cell_type": "markdown",
   "metadata": {
    "slideshow": {
     "slide_type": "subslide"
    }
   },
   "source": [
    "<img src=\"img/lecBayes/DiceProbas1.png\" height=\"30%\">"
   ]
  },
  {
   "cell_type": "markdown",
   "metadata": {
    "slideshow": {
     "slide_type": "slide"
    }
   },
   "source": [
    "# Формализация\n",
    "\n",
    "* Имеется несколько типов (классов) объектов (ситуаций): $1, 2, \\dots, K$.\n",
    "* Каждый объект (ситуация) описывается некоторым набором параметров, которые формируют вектор признаков: $X = (x_1, x_2, \\dots, x_p) \\in \\mathscr{X}$. (Обычно $\\mathscr{X}$ -- подмножество $\\mathbb{R}^p$).\n",
    "* Пропорция каждого класса $k$ в общей \"популяции\" объектов: $\\pi_k$ (может быть известна заранее).\n",
    "* Объекты каждого класса $k$ распределены в соответствии с плотностью распределения (вероятностью) $p_k(x)$, которая является функцией от $x$.\n",
    "\n",
    "*Задача:* классифицировать предъявляемый классификатору объект. Т.е. глядя на вектор признаков объекта $X=x$ вернуть одно из $K+2$ возможных решений: $1, 2, \\dots, K, \\mathscr{D}, \\mathscr{O}$ (где $\\mathscr{D}$ - отказ от классификации, $\\mathscr{O}$ - выброс, т.е. объект точно не принадлежит ни одному из $K$ классов).\n"
   ]
  },
  {
   "cell_type": "markdown",
   "metadata": {
    "slideshow": {
     "slide_type": "slide"
    }
   },
   "source": [
    "## Простейший случай: пропорции классов $\\pi_k$ известны, выбросы не учитываются"
   ]
  },
  {
   "cell_type": "markdown",
   "metadata": {
    "slideshow": {
     "slide_type": "subslide"
    }
   },
   "source": [
    "1. Предположим, мы построили два классификатора. Как узнать, который из них лучше?"
   ]
  },
  {
   "cell_type": "markdown",
   "metadata": {
    "slideshow": {
     "slide_type": "fragment"
    }
   },
   "source": [
    "Нам понадобятся: \n",
    "* вероятность ошибки классификатора для каждого класса ($\\hat{c}(X)$ -- какой ответ выдает классификатор для объекта с вектором признаков $X$): \n",
    "\\begin{equation*}\n",
    "    p_{er}(k) = P\\{\\hat{c}(X) \\neq k, \\quad \\hat{c}(X)\\in \\{1, 2, \\dots, K\\} \\quad |\\quad C=k \\}\n",
    "\\end{equation*}\n",
    "* вероятность отказа от классификации:\n",
    "\\begin{equation*}\n",
    "    p_{d}(k) = P\\{\\hat{c}(X) = \\mathscr{D} \\quad | \\quad C=k \\}\n",
    "\\end{equation*}\n",
    "* величина проигрыша при неверно выбранном ответе (функция потерь)."
   ]
  },
  {
   "cell_type": "markdown",
   "metadata": {
    "slideshow": {
     "slide_type": "subslide"
    }
   },
   "source": [
    "### Функция потерь (loss function)\n",
    "\n",
    "Пусть $L(k, l)$ -- величина потерь при ответе \"объект принадлежит классу $l$\", если на самом деле объект принадлежит классу $k$. (Логично: $L(k,k) = 0$).\n",
    "\\begin{equation*}\n",
    "    L(k,l)  = \\left\\lbrace \n",
    "        \\begin{array}{rl}\n",
    "            0, & \\mbox{если } l= k \\mbox{ (корректный ответ)}\\\\\n",
    "            1, & \\mbox{если } l\\neq k \\mbox{ и } l\\in \\{1,2,\\dots,K\\} \\\\\n",
    "            d, & \\mbox{если } l=\\mathscr{D} \\mbox{ (в затруднении)}.\n",
    "        \\end{array}  \\right. \n",
    "\\end{equation*}\n"
   ]
  },
  {
   "cell_type": "markdown",
   "metadata": {
    "slideshow": {
     "slide_type": "subslide"
    }
   },
   "source": [
    "### Функция риска\n",
    "\n",
    "Ожидаемая величина потерь для классификатора $\\hat{c}$:\n",
    "\n",
    "\\begin{equation*}\n",
    "    R(\\hat{c}, k) = E[L(k, \\hat{c}(X)) \\ | \\  C=k] = \n",
    "\\end{equation*}\n",
    "\\begin{equation*}\n",
    "    \\sum_{l=1}^K L(k, l) P\\{\\hat{c}(X) =l \\ | \\ C=k\\} + L(k, \\mathscr{D}) P\\{\\hat{c}(X)=\\mathscr{D} \\ | \\ C=k\\}) =\n",
    "\\end{equation*}\n",
    "\\begin{equation*}\n",
    "   = p_{er}(k) + d p_d(k).\n",
    "\\end{equation*}\n",
    "\n",
    "Общий риск когда ожидаемый класс $C$ и вектор $X$ случайны:\n",
    "\n",
    "\\begin{equation*}\n",
    "   R(\\hat{c}) = E R(\\hat{c}, C) = \\sum_{k=1}^k \\pi_k p_{er}(k) + d \\sum_{k=1}^k \\pi_k p_d(k).\n",
    "\\end{equation*}"
   ]
  },
  {
   "cell_type": "markdown",
   "metadata": {
    "slideshow": {
     "slide_type": "subslide"
    }
   },
   "source": [
    "(Вспоминаем гистограммы)\n",
    "\n",
    "\n",
    "\\begin{equation*}\n",
    "   p(k \\ | \\ x) = P\\{C=k \\ | \\ X=x\\} = \\frac{\\pi_k p_k(x)}{\\sum_{l=1}^K \\pi_j p_l(x)}\n",
    "\\end{equation*}"
   ]
  },
  {
   "cell_type": "markdown",
   "metadata": {
    "slideshow": {
     "slide_type": "subslide"
    }
   },
   "source": [
    "### Правило классификации\n",
    "Для минимизации риска \n",
    "\\begin{equation*}\n",
    "    L(k,l)  = \\left\\lbrace \n",
    "        \\begin{array}{rl}\n",
    "            0, & \\mbox{если } l= k \\mbox{ (корректный ответ)}\\\\\n",
    "            1, & \\mbox{если } l\\neq k \\mbox{ и } l\\in \\{1,2,\\dots,K\\} \\\\\n",
    "            d, & \\mbox{если } l=\\mathscr{D} \\mbox{ (в затруднении)}.\n",
    "        \\end{array}  \\right. \n",
    "\\end{equation*}\n",
    "\n",
    "нужно действовать по правилу:\n",
    "\n",
    "\n",
    "\\begin{equation*}\n",
    "    c(x)  = \\left\\lbrace \n",
    "        \\begin{array}{rl}\n",
    "            k, & \\mbox{если } p(k|x) = \\max_{l \\leq K} \\mbox{ и это больше } 1-d\\\\\n",
    "            \\mathscr{D}, & \\mbox{если каждый} p(k|x) \\leq 1-d.\n",
    "        \\end{array}  \\right. \n",
    "\\end{equation*}\n",
    "\n",
    "\n",
    "\n",
    "Для минимизации общего риска нужно действовать по правилу:\n",
    "\n",
    "\n",
    "\\begin{equation*}\n",
    "    c(x)  = \\left\\lbrace \n",
    "        \\begin{array}{rl}\n",
    "            k, & \\mbox{если это дает минимум }  min_{l\\leq K} \\sum L(j, l) p(j | x) < d\\\\\n",
    "            \\mathscr{D}, & \\mbox{иначе}.\n",
    "        \\end{array}  \\right. \n",
    "\\end{equation*}"
   ]
  },
  {
   "cell_type": "markdown",
   "metadata": {
    "slideshow": {
     "slide_type": "subslide"
    }
   },
   "source": []
  }
 ],
 "metadata": {
  "celltoolbar": "Slideshow",
  "kernelspec": {
   "display_name": "Python 3",
   "language": "python",
   "name": "python3"
  },
  "language_info": {
   "codemirror_mode": {
    "name": "ipython",
    "version": 3
   },
   "file_extension": ".py",
   "mimetype": "text/x-python",
   "name": "python",
   "nbconvert_exporter": "python",
   "pygments_lexer": "ipython3",
   "version": "3.5.2"
  }
 },
 "nbformat": 4,
 "nbformat_minor": 2
}
