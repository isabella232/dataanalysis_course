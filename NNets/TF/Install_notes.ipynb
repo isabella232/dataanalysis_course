{
 "cells": [
  {
   "cell_type": "markdown",
   "metadata": {
    "collapsed": true
   },
   "source": [
    "# Установка и проверка\n",
    "\n",
    "Цель этого раздела - убедиться, что все модули, которые нам необходимы, установлены и доступны для использования.\n",
    "\n",
    "--\n",
    "\n",
    "\n",
    "Рекомендуется устанавливать TensorFlow в отдельное виртуальное окруужение virtualenv (или conda enviroment). Поэтому нужно сначала создать виртуальное окружение при помощи команды `pip install virtualenv`.\n",
    "\n",
    "Затем заходим в консоль и создаем окружение:\n",
    "\n",
    "~~~bash\n",
    "$cd ~\n",
    "$mkdir envs\n",
    "$virtualenv ~/envs/tensorflow\n",
    "~~~\n",
    "\n",
    "Далее необходимо его активировать и установить TensorFlow (pip установит базовую версию для CPU, но на начальном этапе это не проблема; установка версии для GPU описывается на сайте TensorFlow https://www.tensorflow.org/install/):\n",
    "\n",
    "~~~bash\n",
    "$source ~/envs/tensorflow/bin/activate\n",
    "(tensorflow)$pip install tensorflow\n",
    "~~~\n",
    "\n",
    "Дополнительные ссылки: \n",
    "- https://www.tensorflow.org/install/install_mac\n",
    "- https://www.tensorflow.org/install/install_windows\n",
    "- https://www.tensorflow.org/install/install_linux\n"
   ]
  },
  {
   "cell_type": "markdown",
   "metadata": {},
   "source": [
    "Первым делом импортируем TensorFlow"
   ]
  },
  {
   "cell_type": "code",
   "execution_count": null,
   "metadata": {},
   "outputs": [],
   "source": [
    "import tensorflow as tf"
   ]
  },
  {
   "cell_type": "markdown",
   "metadata": {},
   "source": [
    "Смотрим версию TensorFlow. Тут используется версия 1.6, в других версиях возможно понадобится небольшая модификация кода."
   ]
  },
  {
   "cell_type": "code",
   "execution_count": null,
   "metadata": {},
   "outputs": [],
   "source": [
    "tf.__version__"
   ]
  },
  {
   "cell_type": "markdown",
   "metadata": {},
   "source": [
    "Убеждаемся, что все необходимые в работе библиотеки установлены. (Если все устанавливалось через Anaconda, то они уже должны присуствовать). Если чего-то не хватает, нужно доустановить (pip install ...)."
   ]
  },
  {
   "cell_type": "code",
   "execution_count": null,
   "metadata": {},
   "outputs": [],
   "source": [
    "import numpy as np \n",
    "import matplotlib\n",
    "import sklearn\n",
    "\n",
    "import pandas as pd \n",
    "\n",
    "# Полезный фреймворк на будущее, но мы пока не будем его трогать:\n",
    "# import keras"
   ]
  },
  {
   "cell_type": "markdown",
   "metadata": {},
   "source": [
    "Аналогично, смотрим на версии библиотек. (В нашем случае версия sklearn 1.19)"
   ]
  },
  {
   "cell_type": "code",
   "execution_count": null,
   "metadata": {},
   "outputs": [],
   "source": [
    "print(sklearn.__version__)\n",
    "# print(keras.__version__)"
   ]
  },
  {
   "cell_type": "markdown",
   "metadata": {},
   "source": [
    "# Hello World\n",
    "Начинаем с минимального \"Hello World\". Несмотря на размер и простоту, он уже содержит много элементов TensorFlow, которые будут изучаться позднее."
   ]
  },
  {
   "cell_type": "code",
   "execution_count": null,
   "metadata": {},
   "outputs": [],
   "source": [
    "h = tf.constant(\"Hello\")\n",
    "w = tf.constant(\" World!\")\n",
    "hw = h + w\n",
    "\n",
    "with tf.Session() as sess:\n",
    "    ans = sess.run(hw)\n",
    "\n",
    "print(ans)"
   ]
  },
  {
   "cell_type": "code",
   "execution_count": null,
   "metadata": {},
   "outputs": [],
   "source": [
    "print(h)\n",
    "print(hw)"
   ]
  }
 ],
 "metadata": {
  "anaconda-cloud": {},
  "kernelspec": {
   "display_name": "Python 3",
   "language": "python",
   "name": "python3"
  },
  "language_info": {
   "codemirror_mode": {
    "name": "ipython",
    "version": 3
   },
   "file_extension": ".py",
   "mimetype": "text/x-python",
   "name": "python",
   "nbconvert_exporter": "python",
   "pygments_lexer": "ipython3",
   "version": "3.4.3"
  },
  "nbpresent": {
   "slides": {
    "64fc7e81-424c-4384-bd40-efdb2cf5ec2e": {
     "id": "64fc7e81-424c-4384-bd40-efdb2cf5ec2e",
     "prev": null,
     "regions": {
      "cad98b11-ae68-44c7-bc2d-7d2cf3988a2c": {
       "attrs": {
        "height": 0.8,
        "width": 0.8,
        "x": 0.1,
        "y": 0.1
       },
       "content": {
        "cell": "a0c9934c-39fa-46a8-9d06-611a3c5c4645",
        "part": "whole"
       },
       "id": "cad98b11-ae68-44c7-bc2d-7d2cf3988a2c"
      }
     }
    }
   },
   "themes": {}
  }
 },
 "nbformat": 4,
 "nbformat_minor": 1
}
