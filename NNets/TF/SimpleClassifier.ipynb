{
 "cells": [
  {
   "cell_type": "markdown",
   "metadata": {
    "collapsed": true
   },
   "source": [
    "# Однослойный перцептрон на TensorFlow\n",
    "### (База изображений MNIST)\n",
    "База MNIST (Mixed National Institue of Standards and Technology) - база изображений рукописных цифр, часто используется в исследовательских целях в задачах обработки изображений и машинного обучения (еще несколько лет назад)."
   ]
  },
  {
   "cell_type": "code",
   "execution_count": null,
   "metadata": {},
   "outputs": [],
   "source": [
    "import numpy as np\n",
    "import tensorflow as tf\n",
    "from tensorflow.examples.tutorials.mnist import input_data\n",
    "from sklearn.metrics import confusion_matrix\n",
    "import pandas as pd\n",
    "import sys\n",
    "\n",
    "# Скачиваеем данные, сохраняем на диск. \n",
    "DATA_DIR = '/tmp/data' if not 'win32' in sys.platform else \"c:\\\\tmp\\\\data\"\n",
    "\n",
    "# Загружаем данные \n",
    "data = input_data.read_data_sets(DATA_DIR, one_hot=True)\n",
    "\n",
    "print(\"Число изобажений в обучающем множестве: {}\".format(len(data.train.images)))\n",
    "print(\"Число меток {}.\".format(len(data.train.labels)))"
   ]
  },
  {
   "cell_type": "markdown",
   "metadata": {},
   "source": [
    "Отрисуем несколько примеров\n",
    "\n",
    "Начнем с одного изображения, затем отрисуем сразу целый пакет."
   ]
  },
  {
   "cell_type": "code",
   "execution_count": null,
   "metadata": {},
   "outputs": [],
   "source": [
    "import matplotlib.pyplot as plt \n",
    "%matplotlib inline  \n",
    "\n",
    "IMAGE_IX_IN_DATASET = 0\n",
    "\n",
    "first_img = data.train.images[IMAGE_IX_IN_DATASET].reshape(28, 28)\n",
    "first_lbl = data.train.labels[IMAGE_IX_IN_DATASET].argmax()\n",
    "\n",
    "plt.figure()\n",
    "plt.imshow(first_img, cmap='gray')\n",
    "plt.gca().get_xaxis().set_visible(False)\n",
    "plt.gca().get_yaxis().set_visible(False)\n",
    "plt.title(\"Вообще-то это должно быть {}\".format(first_lbl))"
   ]
  },
  {
   "cell_type": "markdown",
   "metadata": {},
   "source": [
    "Отобразим сразу 100 цифр на одном графике (10x10).\n",
    "\n",
    "Для лучшего восприятия мы отобразим *инвертируем* изображения. "
   ]
  },
  {
   "cell_type": "code",
   "execution_count": null,
   "metadata": {},
   "outputs": [],
   "source": [
    "N_IMAGES = 10\n",
    "img = np.vstack(\n",
    "    [\n",
    "        np.hstack(\n",
    "            [img.reshape(28, 28) for img in data.train.images[np.random.choice(1000, N_IMAGES)]]\n",
    "        )  for i in range(N_IMAGES)\n",
    "    ]\n",
    ")\n",
    "img = np.logical_not(img)\n",
    "\n",
    "plt.figure()\n",
    "plt.imshow(img, cmap='gray')\n",
    "plt.gca().get_xaxis().set_visible(False)\n",
    "plt.gca().get_yaxis().set_visible(False)\n",
    "plt.title(\"100 случайных цифр\")"
   ]
  },
  {
   "cell_type": "markdown",
   "metadata": {},
   "source": [
    "# Перцептрон с Softmax функцией\n",
    "\n",
    "Построим однослойный перцептрон, распознающий цифры. На вход он будет принимать яркости пикселей наших изображений, и выдавать наружу номер класса (цифру).\n",
    "\n",
    "(Каждый пиксель анализируется отдельно, никакой пространственной информации перцептрон учитывать не будет)\n",
    "\n",
    "$ u_j = \\sum_i x_{ji} w_{ji} +b_j$ \n",
    "\n",
    "Ответ будем формировать по схеме \"победитель забирает всё\": будем считать ответом сети (номером класса) номер нейрона, из которого вышел максимальный отклик.\n",
    "\n",
    "$$\n",
    "y_j = softmax(u_j) = \\frac{e^{u_j}}{\\sum_{i=0}^9 e^{u_i}}\n",
    "$$"
   ]
  },
  {
   "cell_type": "code",
   "execution_count": null,
   "metadata": {},
   "outputs": [],
   "source": [
    "# Посмотрим на \"сырые\" данные\n",
    "img = data.train.images[:1000]\n",
    "\n",
    "# Plot \n",
    "plt.figure()\n",
    "plt.imshow(np.logical_not(img).T, cmap='gray')\n",
    "plt.gca().get_xaxis().set_visible(False)\n",
    "plt.gca().get_yaxis().set_visible(False)\n",
    "plt.title(\"Каждая колонка - это одно развернутое в вектор изображение...\")"
   ]
  },
  {
   "cell_type": "markdown",
   "metadata": {},
   "source": [
    "Не слишком заметны закономерности - проделаем еще две операции:\n",
    "    1. выберем только центры изображений;\n",
    "    2. отсортируем по ответам.\n",
    "    \n",
    "В итоге получается более понятная структура, возможно, что человек после некоторой тренировки мог бы научиться распознавать цифры в таком виде. "
   ]
  },
  {
   "cell_type": "code",
   "execution_count": null,
   "metadata": {},
   "outputs": [],
   "source": [
    "\n",
    "N_IMAGES = 1000\n",
    "\n",
    "# Вырежем центры\n",
    "center_img = [img.reshape(28, 28)[8:22, 8:22].ravel() \n",
    "              for img in  data.train.images[:N_IMAGES]]\n",
    "\n",
    "# сортируем изображения\n",
    "sorted_lbls = np.argsort(data.train.labels.argmax(axis=1)[:N_IMAGES])\n",
    "center_img = np.array(center_img)[sorted_lbls]\n",
    "\n",
    "# Plot \n",
    "plt.figure()\n",
    "plt.imshow(np.logical_not(center_img).T, cmap='gray')\n",
    "plt.gca().get_xaxis().set_visible(False)\n",
    "plt.gca().get_yaxis().set_visible(False)\n",
    "plt.title(\"Каждая колонка - центр изображения...\")"
   ]
  },
  {
   "cell_type": "markdown",
   "metadata": {},
   "source": [
    "Построим нашу модель.\n",
    "\n",
    "Потребуется определить:\n",
    "    1. placehodler\n",
    "    2. Variable\n",
    "    3. Размерости [None, 784];\n",
    "    4. matmul "
   ]
  },
  {
   "cell_type": "code",
   "execution_count": null,
   "metadata": {},
   "outputs": [],
   "source": [
    "# Начинаем строить модель\n",
    "x = tf.placeholder(tf.float32, [None, 784])\n",
    "W = tf.Variable(tf.zeros([784, 10]))\n",
    "b = tf.Variable(tf.zeros([10]))\n",
    "\n",
    "y_true = tf.placeholder(tf.float32, [None, 10])\n",
    "y_pred = tf.matmul(x, W) + b"
   ]
  },
  {
   "cell_type": "markdown",
   "metadata": {},
   "source": [
    "Требуется функция потерь."
   ]
  },
  {
   "cell_type": "code",
   "execution_count": null,
   "metadata": {},
   "outputs": [],
   "source": [
    "cross_entropy = \\\n",
    "    tf.reduce_mean(tf.nn.softmax_cross_entropy_with_logits_v2(logits=y_pred, labels=y_true))"
   ]
  },
  {
   "cell_type": "markdown",
   "metadata": {},
   "source": [
    "Воспользуемся градиентным спуском"
   ]
  },
  {
   "cell_type": "code",
   "execution_count": null,
   "metadata": {},
   "outputs": [],
   "source": [
    "gd_step = tf.train.GradientDescentOptimizer(0.5).minimize(cross_entropy)"
   ]
  },
  {
   "cell_type": "markdown",
   "metadata": {},
   "source": [
    "Нам нужно оценить точность модели:\n",
    "The final elements we need are measures of how well our model is preforming.\n",
    "    1. correct_mask: маркер, правильно сеть ответила или нет;\n",
    "    2. accuracy: доля правильных ответов."
   ]
  },
  {
   "cell_type": "code",
   "execution_count": null,
   "metadata": {},
   "outputs": [],
   "source": [
    "correct_mask = tf.equal(tf.argmax(y_pred, 1), tf.argmax(y_true, 1))\n",
    "accuracy = tf.reduce_mean(tf.cast(correct_mask, tf.float32))"
   ]
  },
  {
   "cell_type": "markdown",
   "metadata": {},
   "source": [
    "На этом шаге определен вычислительный граф. Создаем сессию и запускаем модель."
   ]
  },
  {
   "cell_type": "code",
   "execution_count": null,
   "metadata": {},
   "outputs": [],
   "source": [
    "NUM_STEPS = 1000\n",
    "MINIBATCH_SIZE = 100\n",
    "\n",
    "with tf.Session() as sess:\n",
    "\n",
    "    # Обучение\n",
    "    sess.run(tf.global_variables_initializer())\n",
    "    for _ in range(NUM_STEPS):\n",
    "        batch_xs, batch_ys = data.train.next_batch(MINIBATCH_SIZE)\n",
    "        sess.run(gd_step, feed_dict={x: batch_xs, y_true: batch_ys})\n",
    "\n",
    "    # Тестирование\n",
    "    is_correct, acc, y_true_vec, y_pred_vec = sess.run([correct_mask, accuracy, y_true, y_pred], \n",
    "                               feed_dict={x: data.test.images, y_true: data.test.labels})\n",
    "\n",
    "print(\"Accuracy: {:.4}%\".format(acc*100))\n"
   ]
  },
  {
   "cell_type": "markdown",
   "metadata": {},
   "source": [
    "# Какие изображения не распознаны?\n",
    "\n",
    "Посмотрим, какие цифры распознаны верно, а какие нет."
   ]
  },
  {
   "cell_type": "code",
   "execution_count": null,
   "metadata": {},
   "outputs": [],
   "source": [
    "is_correct"
   ]
  },
  {
   "cell_type": "code",
   "execution_count": null,
   "metadata": {},
   "outputs": [],
   "source": [
    "correct_ix = np.where(is_correct)[0]\n",
    "correct_img = data.train.images[correct_ix]\n",
    "\n",
    "N_IMAGES = 10\n",
    "img = np.vstack([np.hstack([img.reshape(28, 28) \n",
    "                            for img in correct_img[np.random.choice(len(correct_ix), N_IMAGES)]])\n",
    "                 for i in range(N_IMAGES)])\n",
    "img = np.logical_not(img)\n",
    "\n",
    "plt.figure()\n",
    "plt.imshow(img, cmap='gray')\n",
    "plt.gca().get_xaxis().set_visible(False)\n",
    "plt.gca().get_yaxis().set_visible(False)\n",
    "plt.title(\"Правильно разпознано!\")"
   ]
  },
  {
   "cell_type": "code",
   "execution_count": null,
   "metadata": {},
   "outputs": [],
   "source": [
    "incorrect_ix = np.where(np.logical_not(is_correct))[0]\n",
    "incorrect_img = data.train.images[incorrect_ix]\n",
    "\n",
    "N_IMAGES = 10\n",
    "img = np.vstack([np.hstack([img.reshape(28, 28) \n",
    "                            for img in incorrect_img[np.random.choice(len(incorrect_ix), N_IMAGES)]])\n",
    "                 for i in range(N_IMAGES)])\n",
    "img = np.logical_not(img)\n",
    "\n",
    "plt.figure()\n",
    "plt.imshow(img, cmap='gray')\n",
    "plt.gca().get_xaxis().set_visible(False)\n",
    "plt.gca().get_yaxis().set_visible(False)\n",
    "plt.title(\"Ошибки!\")"
   ]
  },
  {
   "cell_type": "markdown",
   "metadata": {},
   "source": [
    "Построим матрицу ошибок:"
   ]
  },
  {
   "cell_type": "code",
   "execution_count": null,
   "metadata": {},
   "outputs": [],
   "source": [
    "conf_mat = confusion_matrix(y_true_vec.argmax(axis=1), y_pred_vec.argmax(axis=1))\n",
    "\n",
    "print(pd.DataFrame(conf_mat))"
   ]
  }
 ],
 "metadata": {
  "anaconda-cloud": {},
  "kernelspec": {
   "display_name": "Python 3",
   "language": "python",
   "name": "python3"
  },
  "language_info": {
   "codemirror_mode": {
    "name": "ipython",
    "version": 3
   },
   "file_extension": ".py",
   "mimetype": "text/x-python",
   "name": "python",
   "nbconvert_exporter": "python",
   "pygments_lexer": "ipython3",
   "version": "3.4.3"
  },
  "nbpresent": {
   "slides": {
    "64fc7e81-424c-4384-bd40-efdb2cf5ec2e": {
     "id": "64fc7e81-424c-4384-bd40-efdb2cf5ec2e",
     "prev": null,
     "regions": {
      "cad98b11-ae68-44c7-bc2d-7d2cf3988a2c": {
       "attrs": {
        "height": 0.8,
        "width": 0.8,
        "x": 0.1,
        "y": 0.1
       },
       "content": {
        "cell": "a0c9934c-39fa-46a8-9d06-611a3c5c4645",
        "part": "whole"
       },
       "id": "cad98b11-ae68-44c7-bc2d-7d2cf3988a2c"
      }
     }
    }
   },
   "themes": {}
  }
 },
 "nbformat": 4,
 "nbformat_minor": 1
}
