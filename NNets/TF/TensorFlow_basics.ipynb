{
 "cells": [
  {
   "cell_type": "code",
   "execution_count": null,
   "metadata": {},
   "outputs": [],
   "source": [
    "%matplotlib inline\n",
    "\n",
    "import tensorflow as tf\n",
    "import numpy as np\n",
    "from sklearn import datasets, metrics, preprocessing\n",
    "import matplotlib.pyplot as plt\n",
    "tf.__version__"
   ]
  },
  {
   "cell_type": "markdown",
   "metadata": {},
   "source": [
    "\n",
    "# Вычислительные графы\n",
    "\n",
    "В TensorFlow (как и во многих других фреймворках) вершины графа представляют собой операции, применяемые к её входам (если у вершины есть входы). Операции генерируют некоторое выходное значение, передаваемое последущюим вершинам графа."
   ]
  },
  {
   "cell_type": "markdown",
   "metadata": {},
   "source": [
    "# Примеры графов\n",
    "\n",
    "Операции, содержащиеся в графе, могут включать в себя самые различные функции, начиная с отдельных арифметических действий (сложение, умножение, ...) до сложных и составных операций, состоящих из многих действий. Операции могут быть и более специфическими, например, создание констант или генерация случайных чисел.\n",
    "\n",
    "Создание операции устроено просто:\n",
    "~~~python \n",
    "tf.<node does what> \n",
    "~~~"
   ]
  },
  {
   "cell_type": "markdown",
   "metadata": {},
   "source": [
    "# Числа Фибоначчи\n",
    "# $$F_n=F_{n-1}+ F_{n-2}$$\n",
    "## $$F_0 = 0, F_1 = 1 $$\n",
    "\n",
    "<img src=\"./img/fibonacci.png\" width=\"800\">"
   ]
  },
  {
   "cell_type": "code",
   "execution_count": null,
   "metadata": {},
   "outputs": [],
   "source": [
    "import tensorflow as tf # На этом шаге инициализируется граф по умолчанию!\n",
    "\n",
    "# Добавляем в граф наши вершины\n",
    "a = tf.constant(0) # Первый член: 0\n",
    "b = tf.constant(1) # Второй член: 1\n",
    "c = tf.add(a,b) # 1\n",
    "d = tf.add(b,c) # 2\n",
    "e = tf.add(c,d) # 3\n",
    "f = tf.add(d,e) # 5\n",
    "\n",
    "sess = tf.Session()\n",
    "outs = sess.run(f)\n",
    "sess.close()\n",
    "\n",
    "print('Результат равен {}'.format(outs))"
   ]
  },
  {
   "cell_type": "markdown",
   "metadata": {},
   "source": [
    "# Взвешенная сумма\n",
    "# $$y=w_0x_0+w_1x_1+w_2x_2$$\n",
    "\n",
    "<img src=\"./img/1d_filter.png\" width=\"600\">"
   ]
  },
  {
   "cell_type": "code",
   "execution_count": null,
   "metadata": {},
   "outputs": [],
   "source": [
    "x_0 = tf.constant(2) \n",
    "x_1 = tf.constant(-3) \n",
    "x_2 = tf.constant(2) \n",
    "\n",
    "w_0 = tf.constant(4) \n",
    "w_1 = tf.constant(7) \n",
    "w_2 = tf.constant(-5) \n",
    "\n",
    "wx_0 = tf.multiply(x_0,w_0) # x_0*w_0\n",
    "wx_1 = tf.multiply(x_1,w_1) # x_1*w_1\n",
    "wx_2 = tf.multiply(x_2,w_2) # x_2*w_2\n",
    "\n",
    "wx_0_1 = tf.add(wx_0,wx_1) # -wx_0 + wx_1\n",
    "wx_0_1_2 = tf.add(wx_0_1,wx_2) # wx_0_1 + wx_2\n",
    "\n",
    "\n",
    "sess = tf.Session()\n",
    "outs = sess.run(wx_0_1_2)\n",
    "sess.close()\n",
    "\n",
    "print('Сумма равна {}'.format(outs))"
   ]
  },
  {
   "cell_type": "markdown",
   "metadata": {},
   "source": [
    "# Можно несколько проще..."
   ]
  },
  {
   "cell_type": "code",
   "execution_count": null,
   "metadata": {},
   "outputs": [],
   "source": [
    "x_0 = tf.constant(2) \n",
    "x_1 = tf.constant(-3) \n",
    "x_2 = tf.constant(2) \n",
    "\n",
    "w_0 = tf.constant(4) \n",
    "w_1 = tf.constant(7) \n",
    "w_2 = tf.constant(-5) \n",
    "\n",
    "wx_0_1_2 = (x_0*w_0) + (x_1*w_1) + (x_2*w_2)\n",
    "\n",
    "sess = tf.Session()\n",
    "outs = sess.run(wx_0_1_2)\n",
    "sess.close()\n",
    "\n",
    "print('Сумма равна {}'.format(outs))"
   ]
  },
  {
   "cell_type": "markdown",
   "metadata": {},
   "source": [
    "Программа на TensorFlow работает в два этапа:\n",
    " * создание графа;\n",
    " * вычисление операций, определяемых графом."
   ]
  },
  {
   "cell_type": "markdown",
   "metadata": {},
   "source": [
    "# Сессии\n",
    "\n",
    "Сессия - это специальный объект в API TensorFlow, который отвечает за взаимодействие между объектами языка Python и/или данными, вводимыми в систему с одной стороны, и системой, отвечающей за вычисления, выделение памяти, размещение переменных и т.п."
   ]
  },
  {
   "cell_type": "code",
   "execution_count": null,
   "metadata": {},
   "outputs": [],
   "source": [
    "# Создаем граф\n",
    "a = tf.constant(0) # Первый член: 0\n",
    "b = tf.constant(1) # Второй член: 1\n",
    "c = tf.add(a,b) # 1\n",
    "d = tf.add(b,c) # 2\n",
    "e = tf.add(c,d) # 3\n",
    "f = tf.add(d,e) # 5"
   ]
  },
  {
   "cell_type": "markdown",
   "metadata": {},
   "source": [
    "### Вариант 1:\n",
    "\n",
    "~~~python \n",
    "tf.Session()\n",
    "~~~\n",
    "\n",
    "Нужно \n",
    " * сначала открыть сессию, \n",
    " * выполнить вычисления, \n",
    " * затем закрыть ее."
   ]
  },
  {
   "cell_type": "code",
   "execution_count": null,
   "metadata": {},
   "outputs": [],
   "source": [
    "# Создание сессии и запуск\n",
    "# option 1\n",
    "\n",
    "sess = tf.Session()\n",
    "outs = sess.run(f)\n",
    "sess.close()\n",
    "\n",
    "print('Результат равен {}'.format(outs))"
   ]
  },
  {
   "cell_type": "markdown",
   "metadata": {},
   "source": [
    "### Вариант 2:\n",
    "\n",
    "~~~python \n",
    "with tf.Session()\n",
    "~~~\n",
    "Чуть меньше явно указываемых действий - открытие и закрытие сессии происходит прозрачно для программиста."
   ]
  },
  {
   "cell_type": "code",
   "execution_count": null,
   "metadata": {},
   "outputs": [],
   "source": [
    "# option 2\n",
    "\n",
    "with tf.Session() as sess:\n",
    "    outs = sess.run(f)\n",
    "\n",
    "print('Результат равен {}'.format(outs))"
   ]
  },
  {
   "cell_type": "markdown",
   "metadata": {},
   "source": [
    "### Вариант 3:\n",
    "\n",
    "~~~python \n",
    "tf.InteractiveSession()\n",
    "~~~\n",
    "\n",
    "В предыдущих вариантах для того, чтобы выполнить какое-либо действие, мы должны были писать `sess.run(...)`, т.е. мы указывали в рамках какой сессии работаем. InteractiveSession создается как сессия по умолчанию, т.е. можно просто вызывать `run()` или `eval()` без явного указания сессии."
   ]
  },
  {
   "cell_type": "code",
   "execution_count": null,
   "metadata": {},
   "outputs": [],
   "source": [
    "# option 3\n",
    "\n",
    "sess = tf.InteractiveSession()\n",
    "outs = f.eval()\n",
    "sess.close()\n",
    "\n",
    "print('Результат равен {}'.format(outs))"
   ]
  },
  {
   "cell_type": "markdown",
   "metadata": {},
   "source": [
    "Но можно работать и с явным указанием сессии:"
   ]
  },
  {
   "cell_type": "code",
   "execution_count": null,
   "metadata": {},
   "outputs": [],
   "source": [
    "# option 3\n",
    "\n",
    "sess = tf.InteractiveSession()\n",
    "outs = sess.run(f)\n",
    "sess.close()\n",
    "\n",
    "print('Результат равен {}'.format(outs))"
   ]
  },
  {
   "cell_type": "markdown",
   "metadata": {},
   "source": [
    "# NumPy\n",
    "\n",
    "NumPy - пакет Python для выполнения численных операций. При этом TensorFlow и NumPy очень тесно связаны, например `sess.run()` возвращает результаты в виде массивов NumPy."
   ]
  },
  {
   "cell_type": "code",
   "execution_count": null,
   "metadata": {},
   "outputs": [],
   "source": [
    "a = np.array([[1,2],\n",
    "              [3,4],\n",
    "              [5,6]])\n",
    "print('array a:\\n{}'.format(a))\n",
    "print('==============================')\n",
    "\n",
    "print('shape of a:\\n{}'.format(a.shape))\n"
   ]
  },
  {
   "cell_type": "code",
   "execution_count": null,
   "metadata": {},
   "outputs": [],
   "source": [
    "with tf.Session() as sess:\n",
    "    outs = sess.run(f)\n",
    "    \n",
    "print(outs.__class__)\n",
    "print(outs.shape)"
   ]
  },
  {
   "cell_type": "markdown",
   "metadata": {},
   "source": [
    "# Получение результатов вычислений\n",
    "\n",
    "Можно передать команде `sess.run()` список запрашиваемых узлов графа. Тогда команда вернет также список с элементами, соответствующими запросу."
   ]
  },
  {
   "cell_type": "code",
   "execution_count": null,
   "metadata": {},
   "outputs": [],
   "source": [
    "# Graph architecture\n",
    "a = tf.constant(0) # input of 0\n",
    "b = tf.constant(1) # input of 1\n",
    "c = tf.add(a,b) # 1\n",
    "d = tf.add(b,c) # 2\n",
    "e = tf.add(c,d) # 3\n",
    "f = tf.add(d,e) # 5\n",
    "\n",
    "sess = tf.Session()\n",
    "fetches = [a,b,c,d,e,f]\n",
    "outs = sess.run(fetches)\n",
    "sess.close()\n",
    "\n",
    "print('Результат равен {}'.format(outs))\n",
    "print(type(outs))\n",
    "print(type(outs[0]))"
   ]
  },
  {
   "cell_type": "markdown",
   "metadata": {},
   "source": [
    "# Пример .1\n",
    "\n",
    "<img src=\"./img/hands_on_1.png\" width=\"6000\">"
   ]
  },
  {
   "cell_type": "code",
   "execution_count": null,
   "metadata": {},
   "outputs": [],
   "source": [
    "# %load solutions/solution1.py"
   ]
  },
  {
   "cell_type": "markdown",
   "metadata": {},
   "source": [
    "\n",
    "\n",
    "<img src=\"./img/data_flow.png\" width=\"800\">"
   ]
  },
  {
   "cell_type": "markdown",
   "metadata": {},
   "source": [
    "# Тензоры\n",
    "\n",
    "При работе часто приходится иметь дело с многомерными данными. Например, вход нейронной сети может быть:\n",
    " * одномерным массивом (вектором);\n",
    " * двумерным массивом (матрицей), например, черно-белые изображения;\n",
    " * трехмерным массивом, например цветные (RGB) изображения;\n",
    " * четырехмерным массивом, например, цветные видеоданные\n",
    " * ...\n",
    " \n",
    "Такие массивы называют тензорами."
   ]
  },
  {
   "cell_type": "code",
   "execution_count": null,
   "metadata": {},
   "outputs": [],
   "source": [
    "# 3d array\n",
    "a = np.array([ \n",
    "            [[1,2,3],\\\n",
    "             [1,2,3],\\\n",
    "             [1,2,3]],\\\n",
    "        \n",
    "              [[3,2,1],\\\n",
    "               [3,2,1],\\\n",
    "               [3,2,1]] \n",
    "             ])\n",
    "print(a.shape)"
   ]
  },
  {
   "cell_type": "markdown",
   "metadata": {},
   "source": [
    "# shape, dtype и названия"
   ]
  },
  {
   "cell_type": "code",
   "execution_count": null,
   "metadata": {},
   "outputs": [],
   "source": [
    "a = [[1,2],[3,4]]\n",
    "# Назначим атрибуты в явном виде\n",
    "x = tf.constant(a, name='a', dtype=tf.float32) "
   ]
  },
  {
   "cell_type": "code",
   "execution_count": null,
   "metadata": {},
   "outputs": [],
   "source": [
    "print(x.get_shape())"
   ]
  },
  {
   "cell_type": "markdown",
   "metadata": {},
   "source": [
    "Названия тензоров генерируются на основе названия операции, которая создает эти тензоры (в данном случае операция `Variable`), и индекса, которому этот тензор соответствует."
   ]
  },
  {
   "cell_type": "code",
   "execution_count": null,
   "metadata": {},
   "outputs": [],
   "source": [
    "print(x.name)"
   ]
  },
  {
   "cell_type": "code",
   "execution_count": null,
   "metadata": {},
   "outputs": [],
   "source": [
    "a = [[1,2],[3,4]]\n",
    "# Назначим атрибуты в явном виде\n",
    "x = tf.constant(a, name='a', dtype=tf.float32) \n",
    "\n",
    "print(x.name)"
   ]
  },
  {
   "cell_type": "code",
   "execution_count": null,
   "metadata": {},
   "outputs": [],
   "source": [
    "# sess.graph.get_operations()"
   ]
  },
  {
   "cell_type": "code",
   "execution_count": null,
   "metadata": {},
   "outputs": [],
   "source": [
    "# for operation in sess.graph.get_operations():\n",
    "#     print(operation.name)"
   ]
  },
  {
   "cell_type": "code",
   "execution_count": null,
   "metadata": {},
   "outputs": [],
   "source": [
    "# sess = tf.Session()\n",
    "# op = sess.graph.get_operations()\n",
    "# [(m.name, m.values()) for m in op][1]"
   ]
  },
  {
   "cell_type": "markdown",
   "metadata": {},
   "source": [
    "Очень важно убедиться, что все типы переменных, которые вы пропускаете через граф совместимы между собой: попытка выполнить операцию с неподдерживаемым типом данных вызовет исключительную ситуацию."
   ]
  },
  {
   "cell_type": "code",
   "execution_count": null,
   "metadata": {},
   "outputs": [],
   "source": [
    "print(x.dtype)"
   ]
  },
  {
   "cell_type": "markdown",
   "metadata": {},
   "source": [
    "## Приведение типов\n",
    "Часто требуется модифицировать тензор одного типа так, чтобы его тип стал другим."
   ]
  },
  {
   "cell_type": "code",
   "execution_count": null,
   "metadata": {},
   "outputs": [],
   "source": [
    "print(x.dtype)\n",
    "x = tf.cast(x,np.int64)\n",
    "print(x.dtype)"
   ]
  },
  {
   "cell_type": "markdown",
   "metadata": {},
   "source": [
    "# Области видимости имен\n",
    "Иногда приходится иметь дело с большими и сложными вычислительными графами, поэтому существует инструмент, который позволяет группировать узлы графа вместе. Такая группировка облегчает в дальнейшем модификации графа и работу с ним."
   ]
  },
  {
   "cell_type": "code",
   "execution_count": null,
   "metadata": {},
   "outputs": [],
   "source": [
    "with tf.Graph().as_default():\n",
    "    c1 = tf.constant(4,dtype=tf.float64,name='c') \n",
    "    with tf.name_scope(\"prefix_name\"):\n",
    "        c2 = tf.constant(4,dtype=tf.int32,name='c') \n",
    "        c3 = tf.constant(4,dtype=tf.float64,name='c')\n",
    "\n",
    "print(c1.name)\n",
    "print(c2.name)\n",
    "print(c3.name)"
   ]
  },
  {
   "cell_type": "markdown",
   "metadata": {},
   "source": [
    "*Замечание про выражение `with tf.Graph().as_default()`*\n",
    "\n",
    "У нас всегда есть какой-то активный граф или граф по умолчанию, в который добавляются все операции. Но мы можем создавть сразу несколько графов. Выражение `with tf.Graph().as_default()` создает новый граф и устанавливает его графом по умолчанию. После этого все операции, которые вы добавляете, оказываются в данном графе. Если у вас только один граф в системе, то это выражение по сути лишнее. Но тем не менее считается хорошей практикой все добавляемые операции оборачивать в него, поскольку:\n",
    " * это не трудно;\n",
    " * если вы вдруг решите использовать несколько графов, то использование явного указания графа позволит вам избежать путаницы при рефакторинге."
   ]
  },
  {
   "cell_type": "markdown",
   "metadata": {},
   "source": [
    "# Инициализация"
   ]
  },
  {
   "cell_type": "markdown",
   "metadata": {
    "collapsed": true
   },
   "source": [
    "# Константы и случайные числа"
   ]
  },
  {
   "cell_type": "code",
   "execution_count": null,
   "metadata": {},
   "outputs": [],
   "source": [
    "\n",
    "sess = tf.InteractiveSession()\n",
    "\n",
    "a = np.array([[1,2],[3,4],[5,6]])\n",
    "\n",
    "x = tf.constant(a)\n",
    "print('constant initializer:\\n {}'.format(x.eval()))"
   ]
  },
  {
   "cell_type": "code",
   "execution_count": null,
   "metadata": {},
   "outputs": [],
   "source": [
    "x = tf.fill(a.shape,1)\n",
    "print('fill initializer:\\n {}'.format(x.eval()))"
   ]
  },
  {
   "cell_type": "code",
   "execution_count": null,
   "metadata": {},
   "outputs": [],
   "source": [
    "x = tf.zeros(a.shape)\n",
    "print('fill initializer:\\n {}'.format(x.eval()))\n"
   ]
  },
  {
   "cell_type": "code",
   "execution_count": null,
   "metadata": {},
   "outputs": [],
   "source": [
    "# === Normal / Truncated normal  ===\n",
    "\n",
    "mean = 0\n",
    "std = 1\n",
    "x_normal = tf.random_normal((1,5000),mean,std).eval()\n",
    "x_truncated = tf.truncated_normal((1,5000),mean,std).eval()\n",
    "\n",
    "# === Uniform distribution\n",
    "minval = -2 \n",
    "maxval = 2\n",
    "x_uniform = tf.random_uniform((1,50000),minval,maxval).eval()\n",
    "\n",
    "sess.close()"
   ]
  },
  {
   "cell_type": "code",
   "execution_count": null,
   "metadata": {},
   "outputs": [],
   "source": [
    "f,axarr = plt.subplots(1,3,figsize=[15,4])\n",
    "titles = ['Normal','Truncated Normal','Uniform']\n",
    "\n",
    "print(x_normal.shape)\n",
    "for i,x in enumerate([x_normal, x_truncated, x_uniform]):\n",
    "    ax = axarr[i]\n",
    "    ax.hist(x[0],bins=100,color='b',alpha=0.4)\n",
    "    ax.set_title(titles[i],fontsize=20)\n",
    "    ax.set_xlabel('Значения',fontsize=20)\n",
    "    ax.set_ylabel('Частота',fontsize=20)\n",
    "    ax.set_xlim([-5,5])\n",
    "plt.suptitle('Значения инициализированных тензоров',fontsize=30, y=1.15)\n",
    "plt.tight_layout()\n",
    "plt.show()"
   ]
  },
  {
   "cell_type": "markdown",
   "metadata": {},
   "source": [
    "# Часто используемые операции"
   ]
  },
  {
   "cell_type": "markdown",
   "metadata": {},
   "source": [
    "## Аггрегирование\n",
    "\n",
    "Математические операции, которые производят аггренирование по какому-либо измерению тензора:\n",
    "~~~python \n",
    "tf.reduce_mean()\n",
    "tf.reduce_sum()\n",
    "tf.reduce_min()\n",
    "tf.reduce_max()\n",
    "tf.reduce_prod()\n",
    "\n",
    "~~~\n"
   ]
  },
  {
   "cell_type": "code",
   "execution_count": null,
   "metadata": {},
   "outputs": [],
   "source": [
    "sess = tf.InteractiveSession()\n",
    "\n",
    "a = tf.constant([ [1,2,3],\n",
    "              [4,5,6] ])\n",
    "\n",
    "x = tf.reduce_max(a)\n",
    "print('maximum value:\\n {}'.format(x.eval()))"
   ]
  },
  {
   "cell_type": "markdown",
   "metadata": {},
   "source": [
    "Есть очень важный параметр:\n",
    "~~~python \n",
    "reduction_indices\n",
    "~~~\n",
    "Он отвечает за то, по какому измерению будем производить аггрегацию. Если параметр не указан, т.е. `reduction_indices=None` (по умолчанию), то обрабатываются сразу все измерения."
   ]
  },
  {
   "cell_type": "code",
   "execution_count": null,
   "metadata": {},
   "outputs": [],
   "source": [
    "x = tf.reduce_max(a,reduction_indices=0)\n",
    "print('максимальное значение в колонках:\\n {}'.format(x.eval()))"
   ]
  },
  {
   "cell_type": "code",
   "execution_count": null,
   "metadata": {},
   "outputs": [],
   "source": [
    "x = tf.reduce_max(a,reduction_indices=1)\n",
    "print('максимальное значение в строках:\\n {}'.format(x.eval()))"
   ]
  },
  {
   "cell_type": "markdown",
   "metadata": {},
   "source": [
    "## matmul, expand_dims, transpose"
   ]
  },
  {
   "cell_type": "code",
   "execution_count": null,
   "metadata": {},
   "outputs": [],
   "source": [
    "a = tf.constant([ [1,2,3],\n",
    "              [4,5,6] ])\n",
    "\n",
    "b = tf.constant([1,0,1])"
   ]
  },
  {
   "cell_type": "code",
   "execution_count": null,
   "metadata": {},
   "outputs": [],
   "source": [
    "print(a.get_shape())\n",
    "print(b.get_shape())"
   ]
  },
  {
   "cell_type": "code",
   "execution_count": null,
   "metadata": {},
   "outputs": [],
   "source": [
    "b = tf.expand_dims(b,0)\n",
    "print(b.get_shape())"
   ]
  },
  {
   "cell_type": "code",
   "execution_count": null,
   "metadata": {},
   "outputs": [],
   "source": [
    "x = tf.matmul(a, tf.transpose(b))\n",
    "print('matmul result:\\n {}'.format(x.eval()))"
   ]
  },
  {
   "cell_type": "markdown",
   "metadata": {},
   "source": [
    "# Пример .2\n",
    "\n",
    "<img src=\"./img/hands_on_2_a.png\" width=\"500\">"
   ]
  },
  {
   "cell_type": "code",
   "execution_count": null,
   "metadata": {},
   "outputs": [],
   "source": [
    "# %load solutions/solution2.py"
   ]
  },
  {
   "cell_type": "markdown",
   "metadata": {},
   "source": [
    "# Переменные\n",
    "\n",
    "Переменные -- это тензоры, в которых хранятся и обновляются параметры модели."
   ]
  },
  {
   "cell_type": "code",
   "execution_count": null,
   "metadata": {
    "scrolled": true
   },
   "outputs": [],
   "source": [
    "x = tf.Variable(0, name='x')\n",
    "init = tf.global_variables_initializer()\n",
    "print('pre-run переменная:\\n{}'.format(x))\n",
    "print('===============================')\n",
    "\n",
    "with tf.Session() as sess:\n",
    "    sess.run(init)\n",
    "    val = sess.run(x)\n",
    "    print('post-run переменная:\\n{}'.format(val))"
   ]
  },
  {
   "cell_type": "markdown",
   "metadata": {},
   "source": [
    "Мы должны выполнять процедуру инициализации переменных в явном виде, используя метод `tf.global_variables_initializer`. Этот метод выделяет память для переменных и устанавливает их начальное значение."
   ]
  },
  {
   "cell_type": "markdown",
   "metadata": {},
   "source": [
    "# Placeholders (заполнители?) и передача значений\n",
    "Часто мы не знаем, заранее какие именно входные значения будут обрабатываться графом вычислений: входные данные становятся известны после того, как их ввел пользователь.\n",
    "\n",
    "В TensorFlow существуют специальные структуры (Placeholders) для загрузки входных данных в графы вычислений. Мы можем рассматривать их как некие пустые переменные, которые должны быть заплнены данными на этапе вычислений. Т.е. сначала на этапе создания графа мы выделяем для них место, а на этапе вычислений при необходимости помещаем в них входные значения.\n",
    "\n",
    "Таким образом мы можем \"скармливать\" данные непосредственно из кода на Python графу, построенному на TensorFlow. Входные даные должны быть оформлены в виде словаря, где каждый ключ соответствует названию переменной. Значения, которые мы передаем в TensorFlow, должны быть или массивами numpy, или списками."
   ]
  },
  {
   "cell_type": "code",
   "execution_count": null,
   "metadata": {},
   "outputs": [],
   "source": [
    "x_data = np.random.randn(800,10)\n",
    "y_data = np.random.randn(100)\n",
    "\n",
    "with tf.Graph().as_default():\n",
    "    x = tf.placeholder(np.float32,shape=(None,10))\n",
    "    y = tf.placeholder(np.float32,shape=(None))\n",
    "    with tf.Session() as sess:\n",
    "        outs = sess.run(x,feed_dict={x: x_data,y: y_data})\n",
    "        \n",
    "print(outs.shape)"
   ]
  },
  {
   "cell_type": "markdown",
   "metadata": {},
   "source": [
    "# Оптимизация\n",
    "\n",
    "Для настройки параметров моделей в TensorFlow реализованы различные методы оптимизации.\n",
    "\n",
    "<img src=\"./img/optimization.png\" width=\"500\">"
   ]
  },
  {
   "cell_type": "markdown",
   "metadata": {},
   "source": [
    "# Функция потерь (loss function)\n",
    "\n",
    "Функция потерь отражает то, насколько много мы проигрываем, если система дает тот или иной ответ для заданного примера."
   ]
  },
  {
   "cell_type": "markdown",
   "metadata": {},
   "source": [
    "### MSE\n",
    "(Часто используется для задач регрессии):\n",
    "\n",
    "# $$L(y,\\hat{y})={1\\over{n}} \\Sigma_{i=1}^n(y_i-\\hat{y}_i)^2$$\n",
    "\n",
    "~~~python \n",
    "loss = tf.reduce_mean(tf.square(y_true-y_pred))\n",
    "~~~\n",
    "\n",
    "\n",
    "### Перекрестная энтропия \n",
    "(часто используется для задач классификации)\n",
    "\n",
    "# $$H(p,q)=-\\Sigma_x{p(x) \\log q(x)}$$\n",
    "\n",
    "~~~python \n",
    "loss = tf.nn.sigmoid_cross_entropy_with_logits(labels=y_true,logits=y_pred) \n",
    "\n",
    "loss = tf.reduce_mean(loss)\n",
    "~~~\n"
   ]
  },
  {
   "cell_type": "markdown",
   "metadata": {},
   "source": [
    "# Оптимизация\n",
    "\n",
    "Оптимизацию выполняют \"оптимизаторы\" - объекты, реализующие те или иные методы поиска минимума (максимума). Они обновляют веса моделей таким образом, чтобы функция потерь уменьшалась в процессе работы. Обычно используются в два этапа:\n",
    " * создается объект-оптимизатор, настраиваются его параметры;\n",
    " * объекту передается функция для поиска её минимума."
   ]
  },
  {
   "cell_type": "markdown",
   "metadata": {},
   "source": [
    "~~~python \n",
    "optimizer = tf.train.GradientDescentOptimizer(learning_rate=0.5)\n",
    "train = optimizer.minimize(loss)\n",
    "~~~"
   ]
  },
  {
   "cell_type": "markdown",
   "metadata": {},
   "source": [
    "# Пример оптимизации"
   ]
  },
  {
   "cell_type": "code",
   "execution_count": null,
   "metadata": {},
   "outputs": [],
   "source": [
    "from tensorflow.examples.tutorials.mnist import input_data\n",
    "import sys\n",
    "\n",
    "# This is where the MNIST data will be downloaded to. If you already have it on your \n",
    "# machine then set the path accordingly to prevent an extra download. \n",
    "DATA_DIR = '/tmp/data' if not 'win' in sys.platform else \"c:\\\\tmp\\\\data\"\n",
    "\n",
    "# Load data \n",
    "data = input_data.read_data_sets(DATA_DIR, one_hot=True)\n",
    "\n",
    "print(\"Nubmer of training-set images: {}\".format(len(data.train.images)))\n",
    "print(\"Luckily, there are also {} matching labels.\".format(len(data.train.labels)))"
   ]
  },
  {
   "cell_type": "code",
   "execution_count": null,
   "metadata": {},
   "outputs": [],
   "source": [
    "NUM_STEPS = 1000\n",
    "MINIBATCH_SIZE = 100\n",
    "\n",
    "with tf.name_scope('model') as scope:\n",
    "    x = tf.placeholder(tf.float32, [None, 784])\n",
    "    W = tf.Variable(tf.zeros([784, 10]))\n",
    "\n",
    "    y_true = tf.placeholder(tf.float32, [None, 10])\n",
    "    y_pred = tf.matmul(x, W)\n",
    "    \n",
    "with tf.name_scope('loss') as scope:\n",
    "    loss = tf.nn.softmax_cross_entropy_with_logits(logits=y_pred, labels=y_true)\n",
    "    cross_entropy = tf.reduce_mean(loss)\n",
    "    \n",
    "with tf.name_scope('train') as scope:\n",
    "    gd_step = tf.train.GradientDescentOptimizer(0.5).minimize(cross_entropy)\n",
    "    correct_mask = tf.equal(tf.argmax(y_pred, 1), tf.argmax(y_true, 1))\n",
    "    accuracy = tf.reduce_mean(tf.cast(correct_mask, tf.float32))\n",
    "    \n",
    "with tf.Session() as sess:\n",
    "\n",
    "    # Train\n",
    "    sess.run(tf.global_variables_initializer())\n",
    "    for _ in range(NUM_STEPS):\n",
    "        batch_xs, batch_ys = data.train.next_batch(MINIBATCH_SIZE)\n",
    "        sess.run(gd_step, feed_dict={x: batch_xs, y_true: batch_ys})\n",
    "\n",
    "    # Test\n",
    "    is_correct, acc = sess.run([correct_mask, accuracy], \n",
    "                               feed_dict={x: data.test.images, y_true: data.test.labels})\n",
    "\n",
    "print(\"Accuracy: {:.4}%\".format(acc*100))\n"
   ]
  },
  {
   "cell_type": "markdown",
   "metadata": {},
   "source": [
    "# Пример .3\n",
    "\n",
    "# Linear Regression\n",
    "\n",
    "## $$f(x_i) = w^Tx_i +b$$\n",
    "## $$y_i = f(x_i) + \\epsilon_i$$\n",
    "\n",
    "# Boston housing dataset\n",
    "\n",
    "Boston Housing dataset -- небольшоай набор данных (506 примеров), содержащий информацию о ценах на недвижимость пригородных районов Бостона. В нем содержится 13 предикторов (входных переменных) и одна целевая переменная, которая явлется медианной ценой зданий (в 1000 долларов)."
   ]
  },
  {
   "cell_type": "markdown",
   "metadata": {
    "collapsed": true
   },
   "source": [
    "### Сводная информация:\n",
    "\n",
    "Стоимость жилья в пригородах Бостона.\n",
    "\n",
    "### Атрибуты:\n",
    "\n",
    "1. CRIM: уровень преступности на душу населения в городе\n",
    "2. ZN: доля жилой застройки. \n",
    "3. INDUS: доля некомерческих площадей в городе\n",
    "4. CHAS: есть река? (= 1 если да; 0 иначе) \n",
    "5. NOX: концентрация оксидов азота (в 10-ти миллионных долях) \n",
    "6. RM: среднее число комнат \n",
    "7. AGE: доля домов, построенных до 1940г.\n",
    "8. DIS: взвешенные расстояния до пяти офисных районов Бостона\n",
    "9. RAD: индекс доступности радиальных магистралей \n",
    "10. TAX: налог на имущества на \\$10,000 \n",
    "11. PTRATIO: соотношение учеников и учителей в городе\n",
    "12. B: 1000(Bk - 0.63)^2 где Bk пропорция негритянского населения в городе \n",
    "13. LSTAT: % населения ниского социального статуса"
   ]
  },
  {
   "cell_type": "code",
   "execution_count": null,
   "metadata": {},
   "outputs": [],
   "source": [
    "boston = datasets.load_boston()\n",
    "x_data = preprocessing.StandardScaler().fit_transform(boston.data)\n",
    "\n",
    "mu = np.mean(x_data,axis=0)\n",
    "sigma = np.std(x_data,axis=0)\n",
    "x_data =  (x_data - mu)/sigma\n",
    "\n",
    "y_data = boston.target"
   ]
  },
  {
   "cell_type": "raw",
   "metadata": {
    "collapsed": true
   },
   "source": [
    "x = tf.placeholder(tf.float64,shape=(None, 8))\n",
    "y_true = tf.placeholder(tf.float64, shape=(None))\n",
    "\n",
    "with tf.name_scope('data') as scope:\n",
    "    w = \n",
    "    b = \n",
    "    y_pred = \n",
    "\n",
    "with tf.name_scope('loss') as scope:\n",
    "    loss = \n",
    "\n",
    "with tf.name_scope('train') as scope:\n",
    "    learning_rate = 0.1\n",
    "    optimizer = \n",
    "    train = \n",
    "\n",
    "# Сначала нужно инициализировать переменные. Только потом запускать вычисления.\n",
    "\n",
    "with tf.Session() as sess:\n",
    "          \n",
    "    for step in range(200):\n",
    "        \n",
    "        \n",
    "    MSE = sess.run(loss,{x: x_data, y_true: y_data})\n",
    "    \n",
    "print(\"MSE = {}\".format(MSE))"
   ]
  },
  {
   "cell_type": "code",
   "execution_count": null,
   "metadata": {},
   "outputs": [],
   "source": [
    "# %load solutions/solution3.py"
   ]
  }
 ],
 "metadata": {
  "anaconda-cloud": {},
  "kernelspec": {
   "display_name": "Python 3",
   "language": "python",
   "name": "python3"
  },
  "language_info": {
   "codemirror_mode": {
    "name": "ipython",
    "version": 3
   },
   "file_extension": ".py",
   "mimetype": "text/x-python",
   "name": "python",
   "nbconvert_exporter": "python",
   "pygments_lexer": "ipython3",
   "version": "3.4.3"
  },
  "widgets": {
   "state": {},
   "version": "1.1.2"
  }
 },
 "nbformat": 4,
 "nbformat_minor": 1
}
