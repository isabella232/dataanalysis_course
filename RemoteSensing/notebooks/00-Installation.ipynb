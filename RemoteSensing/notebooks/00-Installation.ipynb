{
 "cells": [
  {
   "cell_type": "markdown",
   "metadata": {},
   "source": [
    "# Подготовительные действия"
   ]
  },
  {
   "cell_type": "markdown",
   "metadata": {},
   "source": [
    "## Получение (активация) аккаунта в Google Earth Engine\n",
    "\n",
    "1. Перейти по ссылке https://earthengine.google.com/\n",
    "2. Войти в раздел \"Sign Up\": https://signup.earthengine.google.com/\n",
    "\n",
    "\n",
    "\n",
    "\n",
    "## Установка ПО\n",
    "Понадобятся:\n",
    " * [Docker](https://ru.wikipedia.org/wiki/Docker): \n",
    "  - скачать версию [community edition](https://hub.docker.com/search/?type=edition&offering=community) под вашу операционную систему;\n",
    "  - установить согласно документации, например, [документации под Windows](https://hub.docker.com/editions/community/docker-ce-desktop-windows?tab=description)\n",
    "  - убедиться, что все работает, запустив простейший контейнер из коммандной строки: \n",
    "  ````\n",
    "  docker version\n",
    "  docker run hello-world\n",
    "  ```\n",
    " * Создать [контейнер с предустановленными библиотеками и их зависимостями](https://developers.google.com/earth-engine/python_install-datalab-local):\n",
    "  - Google Earth Engine Python API\n",
    "  - TensorFlow\n",
    "  - Sklearn\n",
    "  - ..."
   ]
  }
 ],
 "metadata": {
  "kernelspec": {
   "display_name": "Python 2",
   "language": "python",
   "name": "python2"
  },
  "language_info": {
   "codemirror_mode": {
    "name": "ipython",
    "version": 2
   },
   "file_extension": ".py",
   "mimetype": "text/x-python",
   "name": "python",
   "nbconvert_exporter": "python",
   "pygments_lexer": "ipython2",
   "version": "2.7.12"
  }
 },
 "nbformat": 4,
 "nbformat_minor": 2
}
