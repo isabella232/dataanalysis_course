{
 "cells": [
  {
   "cell_type": "markdown",
   "metadata": {
    "deletable": true,
    "editable": true
   },
   "source": [
    "# Подготовительные действия"
   ]
  },
  {
   "cell_type": "markdown",
   "metadata": {
    "deletable": true,
    "editable": true
   },
   "source": [
    "## Получение (активация) аккаунта в Google Earth Engine\n",
    "\n",
    "1. Перейти по ссылке https://earthengine.google.com/\n",
    "2. Войти в раздел \"Sign Up\": https://signup.earthengine.google.com/\n",
    "3. Запросить доступ к Google Earth Engine - в окне нужно ввести сообщение в произвольной форме (на английском языке) о том, что вы просите доступа. Достаточно написать пару предложений, в которых вы рассказываете о себе и что-то вроде \"I'm a student, I study remote sensing and I would like to try Earth Engine in my study\". После того, как сообщение пройдет премодерацию, вам на почту придет письмо с доступом к Google Earth Engine.\n",
    "\n",
    "\n",
    "\n",
    "## Установка ПО\n",
    "Понадобятся:\n",
    " * [Docker](https://ru.wikipedia.org/wiki/Docker): \n",
    "  - скачать версию [community edition](https://hub.docker.com/search/?type=edition&offering=community) под вашу операционную систему;\n",
    "  - установить согласно документации, например, [документации под Windows](https://hub.docker.com/editions/community/docker-ce-desktop-windows?tab=description)\n",
    "  - убедиться, что все работает, запустив простейший контейнер из коммандной строки: \n",
    "  ````\n",
    "  docker version\n",
    "  docker run hello-world\n",
    "  ```\n",
    " * Создать [контейнер с предустановленными библиотеками и их зависимостями согласно инструкции](https://developers.google.com/earth-engine/python_install-datalab-local). В этом контейнере уже установлены необходимые для работы библиотеки, в частности становятся доступны:\n",
    "  - Google Earth Engine Python API\n",
    "  - TensorFlow\n",
    "  - Sklearn\n",
    "  - ..."
   ]
  }
 ],
 "metadata": {
  "kernelspec": {
   "display_name": "Python 2",
   "language": "python",
   "name": "python2"
  },
  "language_info": {
   "codemirror_mode": {
    "name": "ipython",
    "version": 2
   },
   "file_extension": ".py",
   "mimetype": "text/x-python",
   "name": "python",
   "nbconvert_exporter": "python",
   "pygments_lexer": "ipython2",
   "version": "2.7.12"
  }
 },
 "nbformat": 4,
 "nbformat_minor": 2
}
