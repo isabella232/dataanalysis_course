{
 "cells": [
  {
   "cell_type": "markdown",
   "metadata": {
    "deletable": true,
    "editable": true
   },
   "source": [
    "# Подготовка к работе: настройка Earth Engine Colab"
   ]
  },
  {
   "cell_type": "markdown",
   "metadata": {
    "colab_type": "text",
    "deletable": true,
    "editable": true,
    "id": "GwrEeAOB_MXY"
   },
   "source": [
    "Блокнот предназначен для установки и предварительной настройки доступа к Earth Engine."
   ]
  },
  {
   "cell_type": "markdown",
   "metadata": {
    "colab_type": "text",
    "deletable": true,
    "editable": true,
    "id": "b1EUdVhC3SCp"
   },
   "source": [
    "# Настройка Colab\n",
    "\n",
    "Сначала требуется установить Earth Engine Python API, чтобы получить доступ к серверам Earth Engine. \n",
    "\n",
    "Этот шаг необходимо проделать каждый раз после того, как будет создан новый блокнот или после того, как существующий блокнот не использовался некторое время. Это необходимо потому, что у виртуальных машин Google Colab, обслуживающих работу блокнотов, есть параметр тайм-аута, по превышении которого машина считается \"протухшей\".\n"
   ]
  },
  {
   "cell_type": "markdown",
   "metadata": {
    "colab_type": "text",
    "deletable": true,
    "editable": true,
    "id": "pkke7LnZBuqI"
   },
   "source": [
    "## Установка Earth Engine\n",
    "\n",
    "Earth Engine Python API и утилиты командной строки могут быть устанвовлены при помощи [програмы `pip`](https://pypi.org/project/pip/). Восклицательный знак, расположенный в начале следующей ячекйки означает, что за ним следует вызов программы из командной строки (а не оператор на языке Python как ожидается по умолчанию)."
   ]
  },
  {
   "cell_type": "code",
   "execution_count": 1,
   "metadata": {
    "colab": {},
    "colab_type": "code",
    "collapsed": false,
    "deletable": true,
    "editable": true,
    "id": "JFv3jrBIG2av"
   },
   "outputs": [
    {
     "name": "stdout",
     "output_type": "stream",
     "text": [
      "Requirement already satisfied: earthengine-api in /src/earthengine-api/python\n",
      "Requirement already satisfied: google-api-python-client in /usr/local/lib/python2.7/dist-packages (from earthengine-api)\n",
      "Requirement already satisfied: pyOpenSSL>=0.11 in /usr/local/lib/python2.7/dist-packages (from earthengine-api)\n",
      "Requirement already satisfied: six<2dev,>=1.6.1 in /usr/local/lib/python2.7/dist-packages (from google-api-python-client->earthengine-api)\n",
      "Requirement already satisfied: uritemplate<4dev,>=3.0.0 in /usr/local/lib/python2.7/dist-packages (from google-api-python-client->earthengine-api)\n",
      "Requirement already satisfied: oauth2client<5.0.0dev,>=1.5.0 in /usr/local/lib/python2.7/dist-packages (from google-api-python-client->earthengine-api)\n",
      "Requirement already satisfied: httplib2<1dev,>=0.9.2 in /usr/local/lib/python2.7/dist-packages (from google-api-python-client->earthengine-api)\n",
      "Requirement already satisfied: cryptography>=1.9 in /usr/local/lib/python2.7/dist-packages (from pyOpenSSL>=0.11->earthengine-api)\n",
      "Requirement already satisfied: pyasn1>=0.1.7 in /usr/local/lib/python2.7/dist-packages (from oauth2client<5.0.0dev,>=1.5.0->google-api-python-client->earthengine-api)\n",
      "Requirement already satisfied: pyasn1-modules>=0.0.5 in /usr/local/lib/python2.7/dist-packages (from oauth2client<5.0.0dev,>=1.5.0->google-api-python-client->earthengine-api)\n",
      "Requirement already satisfied: rsa>=3.1.4 in /usr/local/lib/python2.7/dist-packages (from oauth2client<5.0.0dev,>=1.5.0->google-api-python-client->earthengine-api)\n",
      "Requirement already satisfied: ipaddress in /usr/local/lib/python2.7/dist-packages (from cryptography>=1.9->pyOpenSSL>=0.11->earthengine-api)\n",
      "Requirement already satisfied: idna>=2.1 in /usr/local/lib/python2.7/dist-packages (from cryptography>=1.9->pyOpenSSL>=0.11->earthengine-api)\n",
      "Requirement already satisfied: asn1crypto>=0.21.0 in /usr/local/lib/python2.7/dist-packages (from cryptography>=1.9->pyOpenSSL>=0.11->earthengine-api)\n",
      "Requirement already satisfied: enum34 in /usr/local/lib/python2.7/dist-packages (from cryptography>=1.9->pyOpenSSL>=0.11->earthengine-api)\n",
      "Requirement already satisfied: cffi>=1.7 in /usr/local/lib/python2.7/dist-packages (from cryptography>=1.9->pyOpenSSL>=0.11->earthengine-api)\n",
      "Requirement already satisfied: pycparser in /usr/local/lib/python2.7/dist-packages (from cffi>=1.7->cryptography>=1.9->pyOpenSSL>=0.11->earthengine-api)\n",
      "\u001b[33mYou are using pip version 9.0.1, however version 19.0.3 is available.\n",
      "You should consider upgrading via the 'pip install --upgrade pip' command.\u001b[0m\n"
     ]
    }
   ],
   "source": [
    "!pip install earthengine-api"
   ]
  },
  {
   "cell_type": "markdown",
   "metadata": {
    "colab_type": "text",
    "deletable": true,
    "editable": true,
    "id": "GYUppo1t39B7"
   },
   "source": [
    "## Подключение к Earth Engine\n",
    "Для того, чтобы получить доступ к Engine Engine из блокнотов, необходимо:\n",
    " * иметь активированный аккаунт на earthengine.google.com;\n",
    " * войти в свой аккаунт по адресу [signup.earthengine.google.com](https://signup.earthengine.google.com).\n",
    "\n",
    "После того, как было установлено Earth Engine Python API, можно использовать команду `earthengine authenticate` для того, чтобы подключиться к аккаунту и сохранить параметры подключения в виртуальной машине Google Colab, обслуживающей блокнот.\n",
    "\n",
    "Для этого нужно будет перейти по ссылке на страницу с перечнем разрешений, которые получит блокнот. Если вы разрешаете соотвествующие права доступа, то появится строка с кодом подключения, которую нужно скопировать и вставить в соотвествующее поле ввода ячейки."
   ]
  },
  {
   "cell_type": "code",
   "execution_count": 2,
   "metadata": {
    "colab": {},
    "colab_type": "code",
    "collapsed": false,
    "deletable": true,
    "editable": true,
    "id": "Bgbfo1Ap37Bj"
   },
   "outputs": [],
   "source": [
    "import ee\n",
    "\n",
    "# Check if the server is authenticated. If not, display instructions that\n",
    "# explain how to complete the process.\n",
    "try:\n",
    "  ee.Initialize()\n",
    "  print('The Earth Engine package initialized successfully!')\n",
    "except ee.EEException:\n",
    "  print('The Earth Engine package failed to initialize!')\n",
    "  !earthengine authenticate"
   ]
  },
  {
   "cell_type": "code",
   "execution_count": null,
   "metadata": {
    "collapsed": true,
    "deletable": true,
    "editable": true
   },
   "outputs": [],
   "source": [
    "%%bash\n",
    "earthengine authenticate --authorization-code=\"4/_AByWrwaMEarbmKtsEpjCVAywCBIfJ5v65bNGG3BtsvGNb-qH27Sra8\""
   ]
  },
  {
   "cell_type": "markdown",
   "metadata": {
    "colab_type": "text",
    "deletable": true,
    "editable": true,
    "id": "5skJZQXSCdgd"
   },
   "source": [
    "# Проверка\n",
    "Импортируем библиотеку Earth Engine, инициализируем ее и убедимся, что мы можем использовать команды, предоставляемые этой библиотекой. Например, отобразим какой-либо набор данных, доступный из Earth Engine:"
   ]
  },
  {
   "cell_type": "code",
   "execution_count": 4,
   "metadata": {
    "colab": {},
    "colab_type": "code",
    "collapsed": false,
    "deletable": true,
    "editable": true,
    "id": "BxAjoaeNHeOG"
   },
   "outputs": [
    {
     "data": {
      "text/html": [
       "<img src=\"https://earthengine.googleapis.com/api/thumb?thumbid=2d592b8658f376836c3d351de3905aac&token=c692dd572d35f9afd20fa4272de731b0\"/>"
      ],
      "text/plain": [
       "<IPython.core.display.Image object>"
      ]
     },
     "execution_count": 4,
     "metadata": {},
     "output_type": "execute_result"
    }
   ],
   "source": [
    "import ee\n",
    "from IPython.display import Image\n",
    "\n",
    "# Initialize the Earth Engine module.\n",
    "ee.Initialize()\n",
    "\n",
    "# Display a thumbnail of a sample image asset.\n",
    "Image(url=ee.Image('CGIAR/SRTM90_V4').getThumbUrl({'min': 0, 'max': 3000}))"
   ]
  }
 ],
 "metadata": {
  "colab": {
   "collapsed_sections": [],
   "name": "Earth Engine Colab Install.ipynb",
   "private_outputs": true,
   "provenance": [],
   "toc_visible": true,
   "version": "0.3.2"
  },
  "kernelspec": {
   "display_name": "Python 2",
   "language": "python",
   "name": "python2"
  },
  "language_info": {
   "codemirror_mode": {
    "name": "ipython",
    "version": 2
   },
   "file_extension": ".py",
   "mimetype": "text/x-python",
   "name": "python",
   "nbconvert_exporter": "python",
   "pygments_lexer": "ipython2",
   "version": "2.7.12"
  }
 },
 "nbformat": 4,
 "nbformat_minor": 0
}
