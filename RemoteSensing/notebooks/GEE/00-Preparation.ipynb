{
 "cells": [
  {
   "cell_type": "markdown",
   "metadata": {
    "deletable": true,
    "editable": true
   },
   "source": [
    "# Подготовка к работе: настройка Earth Engine Colab"
   ]
  },
  {
   "cell_type": "markdown",
   "metadata": {
    "colab_type": "text",
    "deletable": true,
    "editable": true,
    "id": "GwrEeAOB_MXY"
   },
   "source": [
    "## Получение (активация) аккаунта в Google Earth Engine\n",
    "\n",
    "1. Перейти по ссылке https://earthengine.google.com/\n",
    "2. Войти в раздел \"Sign Up\": https://signup.earthengine.google.com/\n",
    "3. Запросить доступ к Google Earth Engine - в окне нужно ввести сообщение в произвольной форме (на английском языке) о том, что вы просите доступа. Достаточно написать пару предложений, в которых вы рассказываете о себе и что-то вроде \"I'm a student, I study remote sensing and I would like to try Earth Engine in my study\". После того, как сообщение пройдет премодерацию, вам на почту придет письмо с доступом к Google Earth Engine.\n",
    "\n",
    "\n",
    "\n",
    "## Установка ПО\n",
    "Понадобятся:\n",
    " * [Docker](https://ru.wikipedia.org/wiki/Docker): \n",
    "  - скачать версию [community edition](https://hub.docker.com/search/?type=edition&offering=community) под вашу операционную систему;\n",
    "  - установить согласно документации, например, [документации под Windows](https://hub.docker.com/editions/community/docker-ce-desktop-windows?tab=description)\n",
    "  - убедиться, что все работает, запустив простейший контейнер из коммандной строки: \n",
    "  ````\n",
    "  docker version\n",
    "  docker run hello-world\n",
    "  ```\n",
    " * Создать [контейнер с предустановленными библиотеками и их зависимостями согласно инструкции](https://developers.google.com/earth-engine/python_install-datalab-local), необходимо выполнить шаги 1-3. В полученном контейнере уже установлены необходимые для работы библиотеки, в частности становятся доступны:\n",
    "  - Google Earth Engine Python API\n",
    "  - TensorFlow\n",
    "  - Sklearn\n",
    "  - ..."
   ]
  },
  {
   "cell_type": "markdown",
   "metadata": {
    "colab_type": "text",
    "deletable": true,
    "editable": true,
    "id": "b1EUdVhC3SCp"
   },
   "source": [
    "# Настройка Colab\n",
    "\n",
    "После того, как был настроен контейнер, можно протестировать работоспособность библиотек.\n",
    "\n",
    "Сначала требуется установить Earth Engine Python API, чтобы получить доступ к серверам Earth Engine. \n",
    "\n",
    "Этот шаг необходимо проделать каждый раз после того, как будет создан новый блокнот или после того, как существующий блокнот не использовался некторое время. Это необходимо потому, что у виртуальных машин Google Colab, обслуживающих работу блокнотов, есть параметр тайм-аута, по превышении которого машина считается \"протухшей\".\n"
   ]
  },
  {
   "cell_type": "markdown",
   "metadata": {
    "colab_type": "text",
    "deletable": true,
    "editable": true,
    "id": "pkke7LnZBuqI"
   },
   "source": [
    "## Установка Earth Engine\n",
    "\n",
    "Earth Engine Python API и утилиты командной строки могут быть установлены при помощи [програмы `pip`](https://pypi.org/project/pip/). Восклицательный знак, расположенный в начале следующей ячекйки означает, что за ним следует вызов программы из командной строки (а не оператор на языке Python как ожидается по умолчанию). После выполнения команды в ячейке появится листинг хода процесса установки вместе со списком установленных завимостей."
   ]
  },
  {
   "cell_type": "code",
   "execution_count": null,
   "metadata": {
    "colab": {},
    "colab_type": "code",
    "collapsed": false,
    "deletable": true,
    "editable": true,
    "id": "JFv3jrBIG2av"
   },
   "outputs": [],
   "source": [
    "!pip install earthengine-api"
   ]
  },
  {
   "cell_type": "markdown",
   "metadata": {
    "colab_type": "text",
    "deletable": true,
    "editable": true,
    "id": "GYUppo1t39B7"
   },
   "source": [
    "## Подключение к Earth Engine\n",
    "Для того, чтобы получить доступ к Engine Engine из блокнотов, необходимо:\n",
    " * иметь активированный аккаунт на earthengine.google.com;\n",
    " * войти в свой аккаунт по адресу [signup.earthengine.google.com](https://signup.earthengine.google.com).\n",
    "\n",
    "Процесс получения и активации аккаунта описан выше.\n",
    "\n",
    "После того, как было установлено Earth Engine Python API, можно использовать команду `earthengine authenticate` для того, чтобы подключиться к аккаунту и сохранить параметры подключения в виртуальной машине Google Colab, обслуживающей блокнот.\n",
    "\n",
    "Для этого нужно будет перейти по ссылке на страницу с перечнем разрешений, которые получит блокнот. Если вы разрешаете соотвествующие права доступа, то появится строка с кодом подключения, которую нужно скопировать и вставить в соотвествующее поле ввода ячейки."
   ]
  },
  {
   "cell_type": "code",
   "execution_count": null,
   "metadata": {
    "colab": {},
    "colab_type": "code",
    "collapsed": false,
    "deletable": true,
    "editable": true,
    "id": "Bgbfo1Ap37Bj"
   },
   "outputs": [],
   "source": [
    "import ee\n",
    "\n",
    "# Check if the server is authenticated. If not, display instructions that\n",
    "# explain how to complete the process.\n",
    "try:\n",
    "  ee.Initialize()\n",
    "  print('The Earth Engine package initialized successfully!')\n",
    "except ee.EEException:\n",
    "  print('The Earth Engine package failed to initialize!')\n",
    "  !earthengine authenticate"
   ]
  },
  {
   "cell_type": "code",
   "execution_count": null,
   "metadata": {
    "collapsed": false,
    "deletable": true,
    "editable": true
   },
   "outputs": [],
   "source": [
    "%%bash\n",
    "earthengine authenticate --authorization-code=\"ENTER the code HERE\""
   ]
  },
  {
   "cell_type": "markdown",
   "metadata": {
    "colab_type": "text",
    "deletable": true,
    "editable": true,
    "id": "5skJZQXSCdgd"
   },
   "source": [
    "# Проверка\n",
    "Импортируем библиотеку Earth Engine, инициализируем ее и убедимся, что мы можем использовать команды, предоставляемые этой библиотекой. Например, отобразим какой-либо набор данных, доступный из Earth Engine. Если все нормально, то появится изображение с высотами на материках:"
   ]
  },
  {
   "cell_type": "code",
   "execution_count": null,
   "metadata": {
    "colab": {},
    "colab_type": "code",
    "collapsed": false,
    "deletable": true,
    "editable": true,
    "id": "BxAjoaeNHeOG"
   },
   "outputs": [],
   "source": [
    "import ee\n",
    "from IPython.display import Image\n",
    "\n",
    "# Initialize the Earth Engine module.\n",
    "ee.Initialize()\n",
    "\n",
    "# Display a thumbnail of a sample image asset.\n",
    "Image(url=ee.Image('CGIAR/SRTM90_V4').getThumbUrl({'min': 0, 'max': 3000}))"
   ]
  }
 ],
 "metadata": {
  "colab": {
   "collapsed_sections": [],
   "name": "Earth Engine Colab Install.ipynb",
   "private_outputs": true,
   "provenance": [],
   "toc_visible": true,
   "version": "0.3.2"
  },
  "kernelspec": {
   "display_name": "Python 2",
   "language": "python",
   "name": "python2"
  },
  "language_info": {
   "codemirror_mode": {
    "name": "ipython",
    "version": 2
   },
   "file_extension": ".py",
   "mimetype": "text/x-python",
   "name": "python",
   "nbconvert_exporter": "python",
   "pygments_lexer": "ipython2",
   "version": "2.7.12"
  }
 },
 "nbformat": 4,
 "nbformat_minor": 0
}
