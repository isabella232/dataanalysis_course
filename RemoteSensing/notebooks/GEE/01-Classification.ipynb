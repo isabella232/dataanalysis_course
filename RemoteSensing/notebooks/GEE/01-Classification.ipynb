{
 "cells": [
  {
   "cell_type": "markdown",
   "metadata": {
    "deletable": true,
    "editable": true
   },
   "source": [
    "# Инструменты машинного обучения в Earth Engine "
   ]
  },
  {
   "cell_type": "markdown",
   "metadata": {
    "deletable": true,
    "editable": true
   },
   "source": [
    "В данном блокноте демонстрируются основные приемы работы с GEE на примере решения задачи средствами Earth Engine."
   ]
  },
  {
   "cell_type": "markdown",
   "metadata": {
    "deletable": true,
    "editable": true
   },
   "source": [
    "## Инициализация\n",
    "\n",
    "Выполняетя по необходимости, в случае если не была выполнена ранее или в случае возникновения тайм-аута."
   ]
  },
  {
   "cell_type": "code",
   "execution_count": 1,
   "metadata": {
    "collapsed": false,
    "deletable": true,
    "editable": true
   },
   "outputs": [
    {
     "name": "stdout",
     "output_type": "stream",
     "text": [
      "Earth Engine успешно инициализирован!\n"
     ]
    }
   ],
   "source": [
    "import numpy as np\n",
    "import sklearn as sk\n",
    "\n",
    "import ee\n",
    "from IPython.display import Image\n",
    "\n",
    "try:\n",
    "  ee.Initialize()\n",
    "  print('Earth Engine успешно инициализирован!')\n",
    "except ee.EEException:\n",
    "  print('The Earth Engine package failed to initialize!')\n"
   ]
  },
  {
   "cell_type": "code",
   "execution_count": 3,
   "metadata": {
    "collapsed": false,
    "deletable": true,
    "editable": true
   },
   "outputs": [],
   "source": [
    "# !earthengine authenticate"
   ]
  },
  {
   "cell_type": "code",
   "execution_count": 4,
   "metadata": {
    "collapsed": false,
    "deletable": true,
    "editable": true
   },
   "outputs": [],
   "source": [
    "# !earthengine authenticate --authorization-code=\"4/AwGGCrx2piS9PytjNmThMQgjbZNR6lIkGJMddPW0e_D4DL2phjGu5so\""
   ]
  },
  {
   "cell_type": "code",
   "execution_count": 2,
   "metadata": {
    "collapsed": false,
    "deletable": true,
    "editable": true
   },
   "outputs": [
    {
     "name": "stdout",
     "output_type": "stream",
     "text": [
      "{\r\n",
      "  \"id\": \"users/kolesovdm/DVFU\",\r\n",
      "  \"type\": \"Folder\"\r\n",
      "}\r\n"
     ]
    }
   ],
   "source": [
    "!earthengine asset info users/kolesovdm/DVFU"
   ]
  },
  {
   "cell_type": "code",
   "execution_count": 3,
   "metadata": {
    "collapsed": false,
    "deletable": true,
    "editable": true
   },
   "outputs": [
    {
     "name": "stdout",
     "output_type": "stream",
     "text": [
      "[Table]  users/kolesovdm/DVFU/simpleDataDVFU\r\n",
      "[Table]  users/kolesovdm/DVFU/simpleTestDataDVFU\r\n"
     ]
    }
   ],
   "source": [
    "!earthengine ls -l users/kolesovdm/DVFU"
   ]
  },
  {
   "cell_type": "markdown",
   "metadata": {
    "deletable": true,
    "editable": true
   },
   "source": [
    "## Обработка данных средствами Python API для Google Earth Engine. "
   ]
  },
  {
   "cell_type": "markdown",
   "metadata": {
    "deletable": true,
    "editable": true
   },
   "source": [
    "### Базовый пример"
   ]
  },
  {
   "cell_type": "markdown",
   "metadata": {
    "deletable": true,
    "editable": true
   },
   "source": [
    "После инициализации становятся доступны функции Python API. Прочитаем, например содержимое таблицы `users/kolesovdm/DVFU/simpleDataDVFU`:"
   ]
  },
  {
   "cell_type": "code",
   "execution_count": 4,
   "metadata": {
    "collapsed": false,
    "deletable": true,
    "editable": true
   },
   "outputs": [],
   "source": [
    "sample = ee.FeatureCollection('users/kolesovdm/DVFU/simpleDataDVFU')"
   ]
  },
  {
   "cell_type": "markdown",
   "metadata": {
    "deletable": true,
    "editable": true
   },
   "source": [
    "Обратим внимание, что объект `sample` не содержит сами данные, на самом деле он связан с данными, лежащими на серверах Google Earth Engine. Все манипуляции с объектами Earth Engine производятся удаленно, поскольку код, использующий Python API для Earth Engine при выполнении передается на сервера Google, где компилируется во внутренее представление, а затем выполняется. "
   ]
  },
  {
   "cell_type": "code",
   "execution_count": 5,
   "metadata": {
    "collapsed": false,
    "deletable": true,
    "editable": true
   },
   "outputs": [
    {
     "name": "stdout",
     "output_type": "stream",
     "text": [
      "ee.FeatureCollection({\n",
      "  \"type\": \"Invocation\", \n",
      "  \"arguments\": {\n",
      "    \"tableId\": \"users/kolesovdm/DVFU/simpleDataDVFU\"\n",
      "  }, \n",
      "  \"functionName\": \"Collection.loadTable\"\n",
      "})\n"
     ]
    }
   ],
   "source": [
    "print(sample)"
   ]
  },
  {
   "cell_type": "markdown",
   "metadata": {
    "deletable": true,
    "editable": true
   },
   "source": [
    "Тем не менее есть возможность получить эти данные локально при помощи функции `.getInfo()`, но поступать так следует с осторожностью, т.к. передача данных по сети и/или выполнение программного кода локально очень замедляет процесс обработки."
   ]
  },
  {
   "cell_type": "code",
   "execution_count": 7,
   "metadata": {
    "collapsed": false,
    "deletable": true,
    "editable": true
   },
   "outputs": [],
   "source": [
    "# sample.getInfo()"
   ]
  },
  {
   "cell_type": "markdown",
   "metadata": {
    "deletable": true,
    "editable": true
   },
   "source": [
    "### Обзор основных приемов работы с GEE"
   ]
  },
  {
   "cell_type": "markdown",
   "metadata": {
    "deletable": true,
    "editable": true
   },
   "source": [
    "#### Доступные для анализа данные"
   ]
  },
  {
   "cell_type": "markdown",
   "metadata": {
    "deletable": true,
    "editable": true
   },
   "source": [
    "Спутниковая съемка:\n",
    " * [Landsat](https://developers.google.com/earth-engine/datasets/catalog/landsat/)\n",
    " * [Sentinel](https://developers.google.com/earth-engine/datasets/catalog/sentinel/)\n",
    " * [MODIS](https://developers.google.com/earth-engine/datasets/catalog/modis)\n",
    " \n",
    " \n",
    "[Аэрофотосъемка и съемка высокого разрешения](https://developers.google.com/earth-engine/datasets/tags/highres)\n",
    "\n",
    "Климатические данные:\n",
    " * [Температуры](https://developers.google.com/earth-engine/datasets/tags/temperature)\n",
    " * [Общеклиматические данные](https://developers.google.com/earth-engine/datasets/tags/climate)\n",
    " * [Метеорологические данные](https://developers.google.com/earth-engine/datasets/tags/weather)\n",
    " * [Параметры атмосферы](https://developers.google.com/earth-engine/datasets/tags/atmosphere)\n",
    " \n",
    "\n",
    "Геофизические данные:\n",
    " * [Высоты (цифровые модели местности)](https://developers.google.com/earth-engine/datasets/tags/elevation)\n",
    " * [Классы земного покрова (такие как лес, луг, вода, ...)](https://developers.google.com/earth-engine/datasets/tags/landcover)\n",
    " \n",
    " \n",
    "Пользователь может добавлять/импортировать собственные данные (ASSETS)."
   ]
  },
  {
   "cell_type": "markdown",
   "metadata": {
    "deletable": true,
    "editable": true
   },
   "source": [
    "##### Пример доступа к данным\n",
    "\n",
    "У каждой коллекции данных есть свой идентификатор, по которому можно ее получить. Например, Sentinel-2 доступен по ссылке с идентификатором `COPERNICUS/S2`:"
   ]
  },
  {
   "cell_type": "code",
   "execution_count": 8,
   "metadata": {
    "collapsed": false,
    "deletable": true,
    "editable": true
   },
   "outputs": [
    {
     "name": "stdout",
     "output_type": "stream",
     "text": [
      "ee.ImageCollection({\n",
      "  \"type\": \"Invocation\", \n",
      "  \"arguments\": {\n",
      "    \"id\": \"COPERNICUS/S2\"\n",
      "  }, \n",
      "  \"functionName\": \"ImageCollection.load\"\n",
      "})\n"
     ]
    }
   ],
   "source": [
    "sentinel = ee.ImageCollection(\"COPERNICUS/S2\")\n",
    "print(sentinel)"
   ]
  },
  {
   "cell_type": "markdown",
   "metadata": {
    "deletable": true,
    "editable": true
   },
   "source": [
    "Аналогично, у каждого изображения также есть собственный идентификатор, по которому можно сослаться на это изображение:"
   ]
  },
  {
   "cell_type": "code",
   "execution_count": 9,
   "metadata": {
    "collapsed": false,
    "deletable": true,
    "editable": true
   },
   "outputs": [
    {
     "data": {
      "text/html": [
       "<img src=\"https://earthengine.googleapis.com/api/thumb?thumbid=6cb920ad77238fc5fd2cb2c00150c5b7&token=a0387808cf3f42d642247685947d9522\"/>"
      ],
      "text/plain": [
       "<IPython.core.display.Image object>"
      ]
     },
     "execution_count": 9,
     "metadata": {},
     "output_type": "execute_result"
    }
   ],
   "source": [
    "# Получим ссылку на изображение\n",
    "my_img = ee.Image('COPERNICUS/S2/20181002T020651_20181002T021217_T52TGN');\n",
    "\n",
    "# Отрисуем его\n",
    "Image(url=my_img.getThumbUrl({'min': 0, 'max': 1500, 'bands': 'B7,B5,B3'}))"
   ]
  },
  {
   "cell_type": "code",
   "execution_count": 10,
   "metadata": {
    "collapsed": false,
    "deletable": true,
    "editable": true
   },
   "outputs": [
    {
     "data": {
      "text/html": [
       "<img src=\"https://earthengine.googleapis.com/api/thumb?thumbid=1873a582a012bac2f6a948d74a5f1af8&token=15d7f845d4705f3b7ac7d7a2e5ceabac\"/>"
      ],
      "text/plain": [
       "<IPython.core.display.Image object>"
      ]
     },
     "execution_count": 10,
     "metadata": {},
     "output_type": "execute_result"
    }
   ],
   "source": [
    "region = ee.Geometry.Rectangle([131.74, 42.95, 131.94, 43.07])\n",
    "my_img = ee.Image('COPERNICUS/S2/20181002T020651_20181002T021217_T52TGN').clip(region)\n",
    "Image(url=my_img.getThumbUrl({'min': 0, 'max': 2000, 'bands': 'B2,B5,B3'}))"
   ]
  },
  {
   "cell_type": "markdown",
   "metadata": {
    "deletable": true,
    "editable": true
   },
   "source": [
    "#### Обзор API"
   ]
  },
  {
   "cell_type": "markdown",
   "metadata": {
    "deletable": true,
    "editable": true
   },
   "source": [
    "##### Основные структуры данных\n",
    "\n",
    "Два основных типа данных в GEE:\n",
    " * Image: растровый объект, состоит из каналов изображения и словаря свойств.\n",
    " * Feature: векоторный объект, состоит из геометрии (тип `Geometry`) и словаря свойств.\n",
    " \n",
    "Производные от данных типов, например:\n",
    " * ImageCollection: стек изображений (растров).\n",
    " * FeatureCollection: список отдельных векторных объектов.\n",
    "\n",
    "Аналогичные стандартным, знакомым по другим языкам (строки, числа и т.п.) типам:\n",
    " * Dictionary: словарь.\n",
    " * List: список.\n",
    " * Array: массив.\n",
    " * Geometry: геометрия.\n",
    " * Date: дата. \n",
    " * Number: числовой тип.\n",
    " * String: строки.\n",
    "У многих этих типов есть подтипы  (например, у числового - byte, float64 и т.п.)."
   ]
  },
  {
   "cell_type": "markdown",
   "metadata": {
    "deletable": true,
    "editable": true
   },
   "source": [
    "Пример: отобразим свойства изображения."
   ]
  },
  {
   "cell_type": "code",
   "execution_count": 11,
   "metadata": {
    "collapsed": false,
    "deletable": true,
    "editable": true
   },
   "outputs": [
    {
     "name": "stdout",
     "output_type": "stream",
     "text": [
      "[u'bands', u'version', u'type', u'id', u'properties']\n"
     ]
    }
   ],
   "source": [
    "prop = my_img.getInfo()\n",
    "print(prop.keys())\n",
    "# print(prop['properties'])\n",
    "# print(prop['properties']['MEAN_INCIDENCE_ZENITH_ANGLE_B10']) # Зенитный угол Солнца в момент съемки"
   ]
  },
  {
   "cell_type": "markdown",
   "metadata": {
    "deletable": true,
    "editable": true
   },
   "source": [
    "##### Основные алгоритмы"
   ]
  },
  {
   "cell_type": "markdown",
   "metadata": {
    "deletable": true,
    "editable": true
   },
   "source": [
    "**Все перечисленные выше объекты являются объектами, хранящимися и обрабатываемыми на серверах Google.** Код, который вы пишите, отправляется на сервер, там компилируется и запускается. Объекты не обрабатываются локально."
   ]
  },
  {
   "cell_type": "markdown",
   "metadata": {
    "deletable": true,
    "editable": true
   },
   "source": [
    "GEE поддерживает множество встроенных алгоритмов обработки (гео)данных. Но нас будут интересовать, в первую очередь, алгоритмы машинного обучения:\n",
    " * Алогоритмы классификации:\n",
    "  - Деревья решений.\n",
    "  - Случайный лес.\n",
    "  - Машины опорных векторов.\n",
    "  - Байесовский классификатор.\n",
    "  - ....\n",
    " * Алгоритмы кластеризации (в основном модификации К-средних).\n",
    " * Статистические методы:\n",
    "  - Регрессии (классическая линейная, взвешенная, робастная, ...).\n",
    "  - Статистические метрики качества классификаторов и сходства выборок.\n",
    " * ...\n",
    "  "
   ]
  },
  {
   "cell_type": "markdown",
   "metadata": {
    "deletable": true,
    "editable": true
   },
   "source": [
    "### Пример"
   ]
  },
  {
   "cell_type": "markdown",
   "metadata": {
    "deletable": true,
    "editable": true
   },
   "source": [
    "Обучение с учителем доступно при использовании пакета `Classifier`. Общая схема работы:\n",
    "\n",
    "1. Создание обучающих данных. Необходимо собрать векторные объекты, на основе которых будет производиться обучение. В атрибутах объектов должно быть числовое поле - номер класса объекта.\n",
    "2. Создать объект классификатора и установить его параметры.\n",
    "3. Обучить классификатор на обучающих данных.\n",
    "4. Подать обученному классификатору входные данные в виде изображений или колеекции объектов.\n",
    "5. Оценить ошибку классификации на независимой выборке.\n",
    "\n"
   ]
  },
  {
   "cell_type": "markdown",
   "metadata": {
    "deletable": true,
    "editable": true
   },
   "source": [
    "### Исходные данные"
   ]
  },
  {
   "cell_type": "markdown",
   "metadata": {
    "deletable": true,
    "editable": true
   },
   "source": [
    "Возьмем для работы в качестве источника изображений спутник Sentinel-2. Построим классификатор, который будет  определять по изображению следующие типы Земного покрова:\n",
    " * Водные объекты (море).\n",
    " * Растительность.\n",
    " * Городская застройка.\n",
    " \n",
    "*(Это иллюстративный пример, типы объектов очень грубые, в реальности все сложнее)*"
   ]
  },
  {
   "cell_type": "markdown",
   "metadata": {
    "deletable": true,
    "editable": true
   },
   "source": [
    "##### Каналы Sentinel-2\n",
    "\n",
    "Название|Масштабный коэффициент|Разрешение|Длина волны|Краткое описание\n",
    "---|-----|----------|-----------|-----------\n",
    "B1|0.0001|60 m |443.9nm (S2A) / 442.3nm (S2B)|Аэрозоли\n",
    "B2|0.0001|10 m |496.6nm (S2A) / 492.1nm (S2B)|Синий\n",
    "B3|0.0001|10 m |560nm (S2A) / 559nm (S2B)|Зеленый\n",
    "B4|0.0001|10 m |664.5nm (S2A) / 665nm (S2B)|Красный\n",
    "B5|0.0001|20 m |703.9nm (S2A) / 703.8nm (S2B)|Граница красного-1\n",
    "B6|0.0001|20 m |740.2nm (S2A) / 739.1nm (S2B)|Граница красного-2\n",
    "B7|0.0001|20 m |782.5nm (S2A) / 779.7nm (S2B)|Граница красного-3\n",
    "B8|0.0001|10 m |835.1nm (S2A) / 833nm (S2B)|Ближний инфракрасный\n",
    "B8a|0.0001|20 m |864.8nm (S2A) / 864nm (S2B)|Граница красного-4 \n",
    "B9|0.0001|60 m |945nm (S2A) / 943.2nm (S2B)|Водяной пар\n",
    "B10|0.0001|60 m |1373.5nm (S2A) / 1376.9nm (S2B)|Перистые облака\n",
    "B11|0.0001|20 m |1613.7nm (S2A) / 1610.4nm (S2B)|Коротковолновый инфракрасный-1 \n",
    "B12|0.0001|20 m |2202.4nm (S2A) / 2185.7nm (S2B)|Коротковолновый инфракрасный-2 "
   ]
  },
  {
   "cell_type": "markdown",
   "metadata": {
    "deletable": true,
    "editable": true
   },
   "source": [
    "Будем использовать для анализа каналы видимой части спектра, ближний инфракрасный и коротковолновый инфракрасный: 'B2', 'B3', 'B4', 'B5', 'B8', 'B11':"
   ]
  },
  {
   "cell_type": "code",
   "execution_count": 12,
   "metadata": {
    "collapsed": true,
    "deletable": true,
    "editable": true
   },
   "outputs": [],
   "source": [
    "bands = ['B2', 'B3', 'B4', 'B8', 'B11'];"
   ]
  },
  {
   "cell_type": "markdown",
   "metadata": {
    "deletable": true,
    "editable": true
   },
   "source": [
    "Выберем изображение для анализа:"
   ]
  },
  {
   "cell_type": "code",
   "execution_count": 13,
   "metadata": {
    "collapsed": true,
    "deletable": true,
    "editable": true
   },
   "outputs": [],
   "source": [
    "image = ee.Image('COPERNICUS/S2/20181002T020651_20181002T021217_T52TGN')"
   ]
  },
  {
   "cell_type": "markdown",
   "metadata": {
    "deletable": true,
    "editable": true
   },
   "source": [
    "#### Обучающие полигоны\n",
    "Отрисуем обучающие полигоны и импортируем их в GEE. (Об этом процессе рассказывается в параллельном курсе.) Коротко:\n",
    " * рисуем полигоны, каждый полигон - объект одного класса;\n",
    " * каждому полигону прописываем в атрибутах его класс (номер класса);\n",
    " * импортируем в GEE при помощи графического интерфейса https://code.earthengine.google.com: Вкладка Assests -> Кнопка New -> Пункт меню Table Upload -> В появившемся окне выбираем файлы для загрузки и указываем название результата импорта (название таблицы с геоданными).\n",
    "\n",
    "В итоге с локального компьютера будут загружены файлы (например, shp) и размещены под указанным названием.\n",
    "\n",
    "В Asset под названием `users/kolesovdm/DVFU` был предварительно импортирован слой с примерами `simpleDataDVFU`: https://code.earthengine.google.com/541b416bec25ec1c3cf42669fdec0fc4"
   ]
  },
  {
   "cell_type": "markdown",
   "metadata": {
    "deletable": true,
    "editable": true
   },
   "source": [
    "Обучающие полигоны:"
   ]
  },
  {
   "cell_type": "code",
   "execution_count": 14,
   "metadata": {
    "collapsed": false,
    "deletable": true,
    "editable": true
   },
   "outputs": [],
   "source": [
    "trainData = ee.FeatureCollection('users/kolesovdm/DVFU/simpleDataDVFU');"
   ]
  },
  {
   "cell_type": "code",
   "execution_count": 15,
   "metadata": {
    "collapsed": false,
    "deletable": true,
    "editable": true
   },
   "outputs": [],
   "source": [
    "# Загружаем обучающие данные. Нумерация классов должна начинаться с нуля.\n",
    "# Номер класса хранится в поле 'ClassNumber'\n",
    "remapped = trainData.remap([1, 2, 3], [0, 1, 2], 'ClassNumber');\n",
    "# print(remapped);"
   ]
  },
  {
   "cell_type": "markdown",
   "metadata": {
    "deletable": true,
    "editable": true
   },
   "source": [
    "Полигоны разобъем на отдельные пиксели, накрывающие изображение, и прочитаем содержимое этих пикселей."
   ]
  },
  {
   "cell_type": "code",
   "execution_count": 16,
   "metadata": {
    "collapsed": false,
    "deletable": true,
    "editable": true
   },
   "outputs": [],
   "source": [
    "training = image.sampleRegions(\n",
    "  collection=remapped,\n",
    "  properties=['ClassNumber'],\n",
    "  scale=10\n",
    ");\n",
    "\n",
    "# print(training.size().getInfo())"
   ]
  },
  {
   "cell_type": "markdown",
   "metadata": {
    "deletable": true,
    "editable": true
   },
   "source": [
    "#### Классификатор: CART \n",
    "CART == Classification and Regression Trees\n",
    "\n",
    "Реализация CART в GEE использует следующие параметры:\n",
    "\n",
    "* crossvalidationFactor (по умолчанию 10): число разбиений при перекрестной проверке;\n",
    "* maxDepth (по умолчанию 10):  максимальная глубина дерева;\n",
    "* minLeafPopulation (по умолчанию 1): не допускается создание листьев с числом объектов меньших, чем minLeafPopulation;\n",
    "* minSplitPoplulation (по умолчанию 1): не разбивать узлы, если число объектов узла меньше или равно minSplitPoplulation;\n",
    "* minSplitCost (по умолчанию 1e-10): не разбивать узел, если ошибка (цена поддерева, зависящая от ошибки) меньше, чем minSplitCost;\n",
    "* prune (по умолчанию false): пропускать ли процедуру обрезки дерева;\n",
    "* pruneErrorTolerance (по умолчанию 0.5): The standard error threshold to use in determining the simplest tree whose accuracy is comparable to the minimum cost-complexity tree;\n",
    "* quantizationResolution (по умолчанию 100): The quantization resolution for numerical features;\n",
    "* quantizationMargin (по умолчанию 0.1): The margin reserved by quantizer to avoid overload, as a fraction of the range observed in the training data;\n",
    "* randomSeed (по умолчанию 0): начальное значение для генератора псевдослучайных чисел."
   ]
  },
  {
   "cell_type": "markdown",
   "metadata": {
    "deletable": true,
    "editable": true
   },
   "source": [
    "##### Обучение"
   ]
  },
  {
   "cell_type": "markdown",
   "metadata": {
    "deletable": true,
    "editable": true
   },
   "source": [
    "Обучим классификатор CART:"
   ]
  },
  {
   "cell_type": "code",
   "execution_count": 17,
   "metadata": {
    "collapsed": false,
    "deletable": true,
    "editable": true
   },
   "outputs": [],
   "source": [
    "classifier = ee.Classifier.cart(\n",
    "  prune=True,\n",
    "  maxDepth=3\n",
    ").train(training, 'ClassNumber', bands);"
   ]
  },
  {
   "cell_type": "markdown",
   "metadata": {
    "deletable": true,
    "editable": true
   },
   "source": [
    "Построим результат классификации:"
   ]
  },
  {
   "cell_type": "code",
   "execution_count": 18,
   "metadata": {
    "collapsed": true,
    "deletable": true,
    "editable": true
   },
   "outputs": [],
   "source": [
    "classified = image.select(bands).classify(classifier);"
   ]
  },
  {
   "cell_type": "markdown",
   "metadata": {
    "deletable": true,
    "editable": true
   },
   "source": [
    "И отобразим его:"
   ]
  },
  {
   "cell_type": "code",
   "execution_count": 19,
   "metadata": {
    "collapsed": false,
    "deletable": true,
    "editable": true
   },
   "outputs": [
    {
     "data": {
      "text/html": [
       "<img src=\"https://earthengine.googleapis.com/api/thumb?thumbid=ff52a4e9ecfacfe98d6743449873bb0e&token=6aec81cd6243fa095cfc9b874068900e\"/>"
      ],
      "text/plain": [
       "<IPython.core.display.Image object>"
      ]
     },
     "execution_count": 19,
     "metadata": {},
     "output_type": "execute_result"
    }
   ],
   "source": [
    "Image(url=classified.getThumbUrl())"
   ]
  },
  {
   "cell_type": "markdown",
   "metadata": {
    "deletable": true,
    "editable": true
   },
   "source": [
    "Выглядит не очень понятно.\n",
    "\n",
    "Расскрасим изображение цветовой палитрой (по коду класса):\n",
    " * Зеленый (0)\n",
    " * Синий (1)\n",
    " * Красный (2)"
   ]
  },
  {
   "cell_type": "code",
   "execution_count": 20,
   "metadata": {
    "collapsed": false,
    "deletable": true,
    "editable": true
   },
   "outputs": [
    {
     "data": {
      "text/html": [
       "<img src=\"https://earthengine.googleapis.com/api/thumb?thumbid=5b2933fa325dfb4a109d50fb7dc7eb78&token=b7eb06fdd41408b3905e32d018dfb6a4\"/>"
      ],
      "text/plain": [
       "<IPython.core.display.Image object>"
      ]
     },
     "execution_count": 20,
     "metadata": {},
     "output_type": "execute_result"
    }
   ],
   "source": [
    "visualParams = {'min': 0, 'max': 2, 'palette': '00FF00,0000FF,FF0000'}\n",
    "Image(url=classified.getThumbUrl(visualParams))"
   ]
  },
  {
   "cell_type": "markdown",
   "metadata": {
    "deletable": true,
    "editable": true
   },
   "source": [
    "Посмотрим на результат в более крупном масштабе:"
   ]
  },
  {
   "cell_type": "code",
   "execution_count": 21,
   "metadata": {
    "collapsed": false,
    "deletable": true,
    "editable": true
   },
   "outputs": [
    {
     "data": {
      "text/html": [
       "<img src=\"https://earthengine.googleapis.com/api/thumb?thumbid=91bd43382323e8387d6f86e64737949d&token=78fdca125ee4cff700cfca2a1774c6b8\"/>"
      ],
      "text/plain": [
       "<IPython.core.display.Image object>"
      ]
     },
     "execution_count": 21,
     "metadata": {},
     "output_type": "execute_result"
    }
   ],
   "source": [
    "region = ee.Geometry.Rectangle([131.74, 42.95, 131.94, 43.07])\n",
    "clipped = classified.clip(region) \n",
    "Image(url=clipped.getThumbUrl(visualParams))"
   ]
  },
  {
   "cell_type": "markdown",
   "metadata": {
    "deletable": true,
    "editable": true
   },
   "source": [
    "##### Оценка точности"
   ]
  },
  {
   "cell_type": "markdown",
   "metadata": {
    "deletable": true,
    "editable": true
   },
   "source": [
    "Посчитаем матрицу ошибок сначала на обучающем множестве, затем на тестовом и сравним результаты.\n",
    "\n",
    "Обучающее множество:"
   ]
  },
  {
   "cell_type": "code",
   "execution_count": 22,
   "metadata": {
    "collapsed": false,
    "deletable": true,
    "editable": true
   },
   "outputs": [
    {
     "name": "stdout",
     "output_type": "stream",
     "text": [
      "Матрица ошибок на обучающем множестве:\n",
      "[[ 23438      0      2]\n",
      " [     0 100711     39]\n",
      " [    13     22   1160]]\n",
      "Точность на обучающем множестве:\n",
      "0.99939386689\n"
     ]
    }
   ],
   "source": [
    "trainAccuracy = classifier.confusionMatrix()\n",
    "matrix = trainAccuracy.getInfo()\n",
    "print('Матрица ошибок на обучающем множестве:')\n",
    "print(np.array(matrix))\n",
    "acc = trainAccuracy.accuracy().getInfo()\n",
    "print('Точность на обучающем множестве:')\n",
    "print(acc)"
   ]
  },
  {
   "cell_type": "markdown",
   "metadata": {
    "deletable": true,
    "editable": true
   },
   "source": [
    "Тестовое множество. Повторим процедуру -- реклассификация меток класса, выборка данных и матрица ошибок."
   ]
  },
  {
   "cell_type": "code",
   "execution_count": 23,
   "metadata": {
    "collapsed": false,
    "deletable": true,
    "editable": true
   },
   "outputs": [
    {
     "name": "stdout",
     "output_type": "stream",
     "text": [
      "Матрица ошибок на тестовом множестве: \n",
      "[[ 1028     0     0]\n",
      " [    0 11098     1]\n",
      " [    4     0   129]]\n",
      "Точность на тестовом множестве: \n",
      "0.999592169657\n"
     ]
    }
   ],
   "source": [
    "testData = ee.FeatureCollection('users/kolesovdm/DVFU/simpleTestDataDVFU');\n",
    "remappedTest = testData.remap([1, 2, 3], [0, 1, 2], 'ClassNumber')\n",
    "\n",
    "# Сделаем выборку\n",
    "scale = 60  # При хорошем разрешении упираемся в ошибку time-out'а, поэтому огрубим результаты\n",
    "testAnswers = image.select(bands).sampleRegions(\n",
    "  collection=remappedTest,\n",
    "  properties=['ClassNumber'],\n",
    "  scale=scale\n",
    "  ).classify(classifier)\n",
    "\n",
    "\n",
    "# Get a confusion matrix representing expected accuracy.\n",
    "testAccuracy = testAnswers.errorMatrix('ClassNumber', 'classification');\n",
    "\n",
    "print('Матрица ошибок на тестовом множестве: ')\n",
    "test_matrix = np.array(testAccuracy.getInfo())\n",
    "print(test_matrix)\n",
    "print('Точность на тестовом множестве: ')\n",
    "test_acc = testAccuracy.accuracy().getInfo()\n",
    "print(test_acc)"
   ]
  },
  {
   "cell_type": "markdown",
   "metadata": {},
   "source": [
    "## Задание\n",
    "\n",
    "1. Выбрать снимок на интересующую территорию.\n",
    "2. Создать обучающее и тестовые множества.\n",
    "3. Построить и обучить классификатор.\n",
    "4. Оценить качество работы классификатора."
   ]
  }
 ],
 "metadata": {
  "kernelspec": {
   "display_name": "Python 2",
   "language": "python",
   "name": "python2"
  },
  "language_info": {
   "codemirror_mode": {
    "name": "ipython",
    "version": 2
   },
   "file_extension": ".py",
   "mimetype": "text/x-python",
   "name": "python",
   "nbconvert_exporter": "python",
   "pygments_lexer": "ipython2",
   "version": "2.7.12"
  }
 },
 "nbformat": 4,
 "nbformat_minor": 2
}
