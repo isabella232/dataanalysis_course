{
 "cells": [
  {
   "cell_type": "markdown",
   "metadata": {
    "deletable": true,
    "editable": true
   },
   "source": [
    "# Инструменты машинного обучения в Earth Engine "
   ]
  },
  {
   "cell_type": "markdown",
   "metadata": {
    "deletable": true,
    "editable": true
   },
   "source": [
    "В данном блокноте демонстрируются основные приемы работы с GEE на примере решения задачи средствами Earth Engine."
   ]
  },
  {
   "cell_type": "markdown",
   "metadata": {
    "deletable": true,
    "editable": true
   },
   "source": [
    "## Инициализация\n",
    "\n",
    "Выполняетя по необходимости, в случае если не была выполнена ранее или в случае возникновения тайм-аута."
   ]
  },
  {
   "cell_type": "code",
   "execution_count": 94,
   "metadata": {
    "collapsed": false,
    "deletable": true,
    "editable": true
   },
   "outputs": [
    {
     "name": "stdout",
     "output_type": "stream",
     "text": [
      "The Earth Engine package initialized successfully!\n"
     ]
    }
   ],
   "source": [
    "import ee\n",
    "from IPython.display import Image\n",
    "\n",
    "# Check if the server is authenticated. If not, display instructions that\n",
    "# explain how to complete the process.\n",
    "try:\n",
    "  ee.Initialize()\n",
    "  print('The Earth Engine package initialized successfully!')\n",
    "except ee.EEException:\n",
    "  print('The Earth Engine package failed to initialize!')\n",
    "  !earthengine authenticate\n"
   ]
  },
  {
   "cell_type": "code",
   "execution_count": 95,
   "metadata": {
    "collapsed": false,
    "deletable": true,
    "editable": true
   },
   "outputs": [
    {
     "name": "stdout",
     "output_type": "stream",
     "text": [
      "{\r\n",
      "  \"id\": \"users/kolesovdm/DVFU\",\r\n",
      "  \"type\": \"Folder\"\r\n",
      "}\r\n"
     ]
    }
   ],
   "source": [
    "!earthengine asset info users/kolesovdm/DVFU"
   ]
  },
  {
   "cell_type": "code",
   "execution_count": 96,
   "metadata": {
    "collapsed": false,
    "deletable": true,
    "editable": true
   },
   "outputs": [
    {
     "name": "stdout",
     "output_type": "stream",
     "text": [
      "[Table]  users/kolesovdm/DVFU/simpleDataDVFU\r\n"
     ]
    }
   ],
   "source": [
    "!earthengine ls -l users/kolesovdm/DVFU"
   ]
  },
  {
   "cell_type": "markdown",
   "metadata": {
    "deletable": true,
    "editable": true
   },
   "source": [
    "## Обработка данных средствами Python API для Google Earth Engine. "
   ]
  },
  {
   "cell_type": "markdown",
   "metadata": {
    "deletable": true,
    "editable": true
   },
   "source": [
    "### Базовый пример"
   ]
  },
  {
   "cell_type": "markdown",
   "metadata": {
    "deletable": true,
    "editable": true
   },
   "source": [
    "После инициализации становятся доступны функции Python API. Прочитаем, например содержимое таблицы `users/kolesovdm/DVFU/simpleDataDVFU`:"
   ]
  },
  {
   "cell_type": "code",
   "execution_count": 87,
   "metadata": {
    "collapsed": false,
    "deletable": true,
    "editable": true
   },
   "outputs": [],
   "source": [
    "sample = ee.FeatureCollection('users/kolesovdm/DVFU/simpleDataDVFU')"
   ]
  },
  {
   "cell_type": "markdown",
   "metadata": {
    "deletable": true,
    "editable": true
   },
   "source": [
    "Обратим внимание, что объект `sample` не содержит сами данные, на самом деле он связан с данными, лежащими на серверах Google Earth Engine. Все манипуляции с объектами Earth Engine производятся удаленно, поскольку код, использующий Python API для Earth Engine при выполнении передается на сервера Google, где компилируется во внутренее представление, а затем выполняется. "
   ]
  },
  {
   "cell_type": "code",
   "execution_count": 97,
   "metadata": {
    "collapsed": false,
    "deletable": true,
    "editable": true
   },
   "outputs": [
    {
     "name": "stdout",
     "output_type": "stream",
     "text": [
      "ee.FeatureCollection({\n",
      "  \"type\": \"Invocation\", \n",
      "  \"arguments\": {\n",
      "    \"tableId\": \"users/kolesovdm/DVFU/simpleDataDVFU\"\n",
      "  }, \n",
      "  \"functionName\": \"Collection.loadTable\"\n",
      "})\n"
     ]
    }
   ],
   "source": [
    "print(sample)"
   ]
  },
  {
   "cell_type": "markdown",
   "metadata": {
    "deletable": true,
    "editable": true
   },
   "source": [
    "Тем не менее есть возможность получить эти данные локально при помощи функции `.getInfo()`, но поступать так следует с осторожностью, т.к. передача данных по сети и/или выполнение программного кода локально очень замедляет процесс обработки."
   ]
  },
  {
   "cell_type": "code",
   "execution_count": 89,
   "metadata": {
    "collapsed": false,
    "deletable": true,
    "editable": true
   },
   "outputs": [],
   "source": [
    "# sample.getInfo()"
   ]
  },
  {
   "cell_type": "markdown",
   "metadata": {
    "deletable": true,
    "editable": true
   },
   "source": [
    "### Обзор основных приемов работы с GEE"
   ]
  },
  {
   "cell_type": "markdown",
   "metadata": {
    "deletable": true,
    "editable": true
   },
   "source": [
    "#### Доступные для анализа данные"
   ]
  },
  {
   "cell_type": "markdown",
   "metadata": {
    "deletable": true,
    "editable": true
   },
   "source": [
    "Спутниковая съемка:\n",
    " * [Landsat](https://developers.google.com/earth-engine/datasets/catalog/landsat/)\n",
    " * [Sentinel](https://developers.google.com/earth-engine/datasets/catalog/sentinel/)\n",
    " * [MODIS](https://developers.google.com/earth-engine/datasets/catalog/modis)\n",
    " \n",
    " \n",
    "[Аэрофотосъемка и съемка высокого разрешения](https://developers.google.com/earth-engine/datasets/tags/highres)\n",
    "\n",
    "Климатические данные:\n",
    " * [Температуры](https://developers.google.com/earth-engine/datasets/tags/temperature)\n",
    " * [Общеклиматические данные](https://developers.google.com/earth-engine/datasets/tags/climate)\n",
    " * [Метеорологические данные](https://developers.google.com/earth-engine/datasets/tags/weather)\n",
    " * [Параметры атмосферы](https://developers.google.com/earth-engine/datasets/tags/atmosphere)\n",
    " \n",
    "\n",
    "Геофизические данные:\n",
    " * [Высоты (цифровые модели местности)](https://developers.google.com/earth-engine/datasets/tags/elevation)\n",
    " * [Классы земного покрова (такие как лес, луг, вода, ...)](https://developers.google.com/earth-engine/datasets/tags/landcover)\n",
    " \n",
    " \n",
    "Пользователь может добавлять/импортировать собственные данные (ASSETS)."
   ]
  },
  {
   "cell_type": "markdown",
   "metadata": {
    "deletable": true,
    "editable": true
   },
   "source": [
    "##### Пример доступа к данным\n",
    "\n",
    "У каждой коллекции данных есть свой идентификатор, по которому можно ее получить. Например, Sentinel-2 доступен по ссылке с идентификатором `COPERNICUS/S2`:"
   ]
  },
  {
   "cell_type": "code",
   "execution_count": 98,
   "metadata": {
    "collapsed": false,
    "deletable": true,
    "editable": true
   },
   "outputs": [
    {
     "name": "stdout",
     "output_type": "stream",
     "text": [
      "ee.ImageCollection({\n",
      "  \"type\": \"Invocation\", \n",
      "  \"arguments\": {\n",
      "    \"id\": \"COPERNICUS/S2\"\n",
      "  }, \n",
      "  \"functionName\": \"ImageCollection.load\"\n",
      "})\n"
     ]
    }
   ],
   "source": [
    "sentinel = ee.ImageCollection(\"COPERNICUS/S2\")\n",
    "print(sentinel)"
   ]
  },
  {
   "cell_type": "markdown",
   "metadata": {
    "deletable": true,
    "editable": true
   },
   "source": [
    "Аналогично, у каждого изображения также есть собственный идентификатор, по которому можно сослаться на это изображение:"
   ]
  },
  {
   "cell_type": "code",
   "execution_count": 99,
   "metadata": {
    "collapsed": false,
    "deletable": true,
    "editable": true
   },
   "outputs": [
    {
     "data": {
      "text/html": [
       "<img src=\"https://earthengine.googleapis.com/api/thumb?thumbid=6cb920ad77238fc5fd2cb2c00150c5b7&token=f32861ac252bfd023e77c4ad98d149f8\"/>"
      ],
      "text/plain": [
       "<IPython.core.display.Image object>"
      ]
     },
     "execution_count": 99,
     "metadata": {},
     "output_type": "execute_result"
    }
   ],
   "source": [
    "# Получим ссылку на изображение\n",
    "my_img = ee.Image('COPERNICUS/S2/20181002T020651_20181002T021217_T52TGN');\n",
    "\n",
    "# Отрисуем его\n",
    "Image(url=my_img.getThumbUrl({'min': 0, 'max': 1500, 'bands': 'B7,B5,B3'}))"
   ]
  },
  {
   "cell_type": "code",
   "execution_count": 100,
   "metadata": {
    "collapsed": false,
    "deletable": true,
    "editable": true
   },
   "outputs": [
    {
     "data": {
      "text/html": [
       "<img src=\"https://earthengine.googleapis.com/api/thumb?thumbid=1873a582a012bac2f6a948d74a5f1af8&token=f352464253d5d55e168fd1d19e879edd\"/>"
      ],
      "text/plain": [
       "<IPython.core.display.Image object>"
      ]
     },
     "execution_count": 100,
     "metadata": {},
     "output_type": "execute_result"
    }
   ],
   "source": [
    "region = ee.Geometry.Rectangle([131.74, 42.95, 131.94, 43.07])\n",
    "my_img = my_img = ee.Image('COPERNICUS/S2/20181002T020651_20181002T021217_T52TGN').clip(region)\n",
    "Image(url=my_img.getThumbUrl({'min': 0, 'max': 2000, 'bands': 'B2,B5,B3'}))"
   ]
  },
  {
   "cell_type": "markdown",
   "metadata": {
    "deletable": true,
    "editable": true
   },
   "source": [
    "#### Обзор API"
   ]
  },
  {
   "cell_type": "markdown",
   "metadata": {
    "deletable": true,
    "editable": true
   },
   "source": [
    "##### Основные структуры данных\n",
    "\n",
    "Два основных типа данных в GEE:\n",
    " * Image: растровый объект, состоит из каналов изображения и словаря свойств.\n",
    " * Feature: векоторный объект, состоит из геометрии (тип `Geometry`) и словаря свойств.\n",
    " \n",
    "Производные от данных типов, например:\n",
    " * ImageCollection: стек изображений (растров).\n",
    " * FeatureCollection: список отдельных векторных объектов.\n",
    "\n",
    "Аналогичные стандартным, знакомым по другим языкам (строки, числа и т.п.) типам:\n",
    " * Dictionary: словарь.\n",
    " * List: список.\n",
    " * Array: массив.\n",
    " * Geometry: геометрия.\n",
    " * Date: дата. \n",
    " * Number: числовой тип.\n",
    " * String: строки.\n",
    "У многих этих типов есть подтипы  (например, у числового - byte, float64 и т.п.)."
   ]
  },
  {
   "cell_type": "markdown",
   "metadata": {
    "deletable": true,
    "editable": true
   },
   "source": [
    "Пример: отобразим свойства изображения."
   ]
  },
  {
   "cell_type": "code",
   "execution_count": 101,
   "metadata": {
    "collapsed": false,
    "deletable": true,
    "editable": true
   },
   "outputs": [
    {
     "name": "stdout",
     "output_type": "stream",
     "text": [
      "[u'bands', u'version', u'type', u'id', u'properties']\n"
     ]
    }
   ],
   "source": [
    "prop = my_img.getInfo()\n",
    "print(prop.keys())\n",
    "# print(prop['properties'])\n",
    "# print(prop['properties']['MEAN_INCIDENCE_ZENITH_ANGLE_B10']) # Зенитный угол Солнца в момент съемки"
   ]
  },
  {
   "cell_type": "markdown",
   "metadata": {
    "deletable": true,
    "editable": true
   },
   "source": [
    "##### Основные алгоритмы"
   ]
  },
  {
   "cell_type": "markdown",
   "metadata": {
    "deletable": true,
    "editable": true
   },
   "source": [
    "**Все перечисленные выше объекты являются объектами, хранящимися и обрабатываемыми на серверах Google.** Код, который вы пишите, отправляется на сервер, там компилируется и запускается. Объекты не обрабатываются локально."
   ]
  },
  {
   "cell_type": "markdown",
   "metadata": {
    "deletable": true,
    "editable": true
   },
   "source": [
    "GEE поддерживает множество встроенных алгоритмов обработки (гео)данных. Но нас будут интересовать, в первую очередь, алгоритмы машинного обучения:\n",
    " * Алогоритмы классификации:\n",
    "  - Деревья решений.\n",
    "  - Случайный лес.\n",
    "  - Машины опорных векторов.\n",
    "  - Байесовский классификатор.\n",
    "  - ....\n",
    " * Алгоритмы кластеризации (в основном модификации К-средних).\n",
    " * Статистические методы:\n",
    "  - Регрессии (классическая линейная, взвешенная, робастная, ...).\n",
    "  - Статистические метрики качества классификаторов и сходства выборок.\n",
    " * ...\n",
    "  "
   ]
  },
  {
   "cell_type": "code",
   "execution_count": null,
   "metadata": {
    "collapsed": true,
    "deletable": true,
    "editable": true
   },
   "outputs": [],
   "source": []
  },
  {
   "cell_type": "markdown",
   "metadata": {
    "deletable": true,
    "editable": true
   },
   "source": [
    "### Пример"
   ]
  },
  {
   "cell_type": "markdown",
   "metadata": {},
   "source": [
    "Каналы Sentinel-2\n",
    "\n",
    "Название|Масштабный коэффициент|Разрешение|Длина волны|Краткое описание\n",
    "---|-----|----------|-----------|-----------\n",
    "B1|0.0001|60 m |443.9nm (S2A) / 442.3nm (S2B)|Аэрозоли\n",
    "B2|0.0001|10 m |496.6nm (S2A) / 492.1nm (S2B)|Синий\n",
    "B3|0.0001|10 m |560nm (S2A) / 559nm (S2B)|Зеленый\n",
    "B4|0.0001|10 m |664.5nm (S2A) / 665nm (S2B)|Красный\n",
    "B5|0.0001|20 m |703.9nm (S2A) / 703.8nm (S2B)|Граница красного-1\n",
    "B6|0.0001|20 m |740.2nm (S2A) / 739.1nm (S2B)|Граница красного-2\n",
    "B7|0.0001|20 m |782.5nm (S2A) / 779.7nm (S2B)|Граница красного-3\n",
    "B8|0.0001|10 m |835.1nm (S2A) / 833nm (S2B)|Ближний инфракрасный\n",
    "B8a|0.0001|20 m |864.8nm (S2A) / 864nm (S2B)|Граница красного-4 \n",
    "B9|0.0001|60 m |945nm (S2A) / 943.2nm (S2B)|Водяной пар\n",
    "B10|0.0001|60 m |1373.5nm (S2A) / 1376.9nm (S2B)|Перистые облака\n",
    "B11|0.0001|20 m |1613.7nm (S2A) / 1610.4nm (S2B)|Коротковолновый инфракрасный-1 \n",
    "B12|0.0001|20 m |2202.4nm (S2A) / 2185.7nm (S2B)|Коротковолновый инфракрасный-2 "
   ]
  },
  {
   "cell_type": "code",
   "execution_count": null,
   "metadata": {
    "collapsed": true
   },
   "outputs": [],
   "source": []
  }
 ],
 "metadata": {
  "kernelspec": {
   "display_name": "Python 2",
   "language": "python",
   "name": "python2"
  },
  "language_info": {
   "codemirror_mode": {
    "name": "ipython",
    "version": 2
   },
   "file_extension": ".py",
   "mimetype": "text/x-python",
   "name": "python",
   "nbconvert_exporter": "python",
   "pygments_lexer": "ipython2",
   "version": "2.7.12"
  }
 },
 "nbformat": 4,
 "nbformat_minor": 2
}
